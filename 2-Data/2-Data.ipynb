{
 "cells": [
  {
   "cell_type": "markdown",
   "id": "d086c9ff-22b8-4e97-8572-808c48096136",
   "metadata": {},
   "source": [
    "# Data Creation for Free Doctor"
   ]
  },
  {
   "cell_type": "markdown",
   "id": "4ad4b91a-2cdb-4361-b1a8-5f4e6cd1ce6d",
   "metadata": {},
   "source": [
    "In this section we are going to create the dataset, we are going to download the raw data and clean and create a data frame."
   ]
  },
  {
   "cell_type": "markdown",
   "id": "a5ac32e1-c7bc-4897-a51e-5724c4b31425",
   "metadata": {},
   "source": [
    "First, let us download the online datasets to work"
   ]
  },
  {
   "cell_type": "markdown",
   "id": "203aa753-7fb3-4598-ab99-576e4ac471ca",
   "metadata": {},
   "source": [
    "The MedDialog dataset (English) contains conversations (in English) between doctors and patients. It has 0.26 million dialogues. The data is continuously growing and more dialogues will be added. The raw dialogues are from healthcaremagic.com and icliniq.com. All copyrights of the data belong to healthcaremagic.com and icliniq.com."
   ]
  },
  {
   "cell_type": "code",
   "execution_count": 6,
   "id": "8610028a-9fe1-4ec1-a1e7-5bb40533ac32",
   "metadata": {},
   "outputs": [],
   "source": [
    "import gdown"
   ]
  },
  {
   "cell_type": "code",
   "execution_count": 7,
   "id": "f0bd7bd0-1974-43e9-baa3-e2e55cb9c21d",
   "metadata": {},
   "outputs": [],
   "source": [
    "url=\"https://drive.google.com/drive/folders/1-5mQW2gNj_kcBobllL9EpbJcUcT5aFpE?usp=sharing\""
   ]
  },
  {
   "cell_type": "code",
   "execution_count": 8,
   "id": "2e0b364b-eb38-4e45-ba4e-6ec21708c857",
   "metadata": {},
   "outputs": [
    {
     "data": {
      "text/plain": [
       "['C:\\\\Users\\\\rusla\\\\Dropbox\\\\23-GITHUB\\\\Projects\\\\Free-Doctor-with-Artificial-Intelligence\\\\2-Data\\\\Medical-Dialogue-System\\\\dialogue_0.txt',\n",
       " 'C:\\\\Users\\\\rusla\\\\Dropbox\\\\23-GITHUB\\\\Projects\\\\Free-Doctor-with-Artificial-Intelligence\\\\2-Data\\\\Medical-Dialogue-System\\\\dialogue_1.txt',\n",
       " 'C:\\\\Users\\\\rusla\\\\Dropbox\\\\23-GITHUB\\\\Projects\\\\Free-Doctor-with-Artificial-Intelligence\\\\2-Data\\\\Medical-Dialogue-System\\\\dialogue_2.txt',\n",
       " 'C:\\\\Users\\\\rusla\\\\Dropbox\\\\23-GITHUB\\\\Projects\\\\Free-Doctor-with-Artificial-Intelligence\\\\2-Data\\\\Medical-Dialogue-System\\\\dialogue_3.txt',\n",
       " 'C:\\\\Users\\\\rusla\\\\Dropbox\\\\23-GITHUB\\\\Projects\\\\Free-Doctor-with-Artificial-Intelligence\\\\2-Data\\\\Medical-Dialogue-System\\\\dialogue_4.txt']"
      ]
     },
     "execution_count": 8,
     "metadata": {},
     "output_type": "execute_result"
    }
   ],
   "source": [
    "gdown.download_folder(url, quiet=True, use_cookies=False)"
   ]
  },
  {
   "cell_type": "markdown",
   "id": "bc9ef2a2-9398-470d-a85f-86df74f7ceaf",
   "metadata": {},
   "source": [
    "There are 5 raw dialogs that we are going to process to create the dataset to work."
   ]
  },
  {
   "cell_type": "markdown",
   "id": "7dcea4e3-2b6c-4d92-97d6-9c0b4fad5388",
   "metadata": {},
   "source": [
    "We are going to create a Dataset with the following schema:\n",
    "\n",
    "- qid\t - Int\n",
    "- question - String\t\n",
    "- relevant - String\t\n",
    "- answers -Int\n",
    "\n",
    "The conversion of text to json will be used from this reference.\n",
    "https://www.geeksforgeeks.org/convert-text-file-to-json-in-python/\n",
    "Then we will create the pandas dataframes"
   ]
  },
  {
   "cell_type": "code",
   "execution_count": 8,
   "id": "51b2a0a9-4b6f-44f0-a42d-19a632354178",
   "metadata": {},
   "outputs": [],
   "source": [
    "#importing the os module\n",
    "import os\n",
    "#to get the current working directory\n",
    "path = os.getcwd()"
   ]
  },
  {
   "cell_type": "code",
   "execution_count": 23,
   "id": "668a42e6-9e93-4178-9dcb-26c89004d2b1",
   "metadata": {},
   "outputs": [
    {
     "name": "stdout",
     "output_type": "stream",
     "text": [
      "Collecting pathlib\n",
      "  Downloading pathlib-1.0.1-py3-none-any.whl (14 kB)\n",
      "Installing collected packages: pathlib\n",
      "Successfully installed pathlib-1.0.1\n"
     ]
    }
   ],
   "source": [
    "!pip install pathlib"
   ]
  },
  {
   "cell_type": "code",
   "execution_count": 24,
   "id": "a73f4ef7-ac09-40a6-896e-ba74ef7de5ac",
   "metadata": {},
   "outputs": [],
   "source": [
    "from pathlib import Path\n",
    "#creating a new directory called data\n",
    "out_dir=os.path.join(path, \"data\")\n",
    "Path(out_dir).mkdir(parents=True, exist_ok=True)"
   ]
  },
  {
   "cell_type": "code",
   "execution_count": 27,
   "id": "ee7b90d5-0372-4e73-96ee-ed53bc02f1bd",
   "metadata": {},
   "outputs": [
    {
     "name": "stdout",
     "output_type": "stream",
     "text": [
      "C:\\Users\\rusla\\Dropbox\\23-GITHUB\\Projects\\Free-Doctor-with-Artificial-Intelligence\\2-Data\\data\\out0.txt\n",
      "C:\\Users\\rusla\\Dropbox\\23-GITHUB\\Projects\\Free-Doctor-with-Artificial-Intelligence\\2-Data\\data\\out1.txt\n",
      "C:\\Users\\rusla\\Dropbox\\23-GITHUB\\Projects\\Free-Doctor-with-Artificial-Intelligence\\2-Data\\data\\out2.txt\n",
      "C:\\Users\\rusla\\Dropbox\\23-GITHUB\\Projects\\Free-Doctor-with-Artificial-Intelligence\\2-Data\\data\\out3.txt\n"
     ]
    }
   ],
   "source": [
    "out_n = 0\n",
    "done = False\n",
    "with open(file) as in_file:\n",
    "    while not done: #loop over output file names\n",
    "        # Join various path components\n",
    "        name=f\"out{out_n}.txt\"\n",
    "        file_tmp=os.path.join(path, \"data\", name)\n",
    "        print(file_tmp)\n",
    "        with open(file_tmp, \"w\") as out_file: #generate an output file name\n",
    "            while not done: #loop over lines in the input file and write to the output file\n",
    "                try:\n",
    "                    line = next(in_file).strip() #strip whitespace for consistency\n",
    "                except StopIteration:\n",
    "                    done = True\n",
    "                    break\n",
    "                if \"id=\" in line: #more robust than 'if line == \"SPLIT\\n\":'\n",
    "                    break\n",
    "                else:\n",
    "                    out_file.write(line + '\\n') #must add back in newline because we stripped it out earlier \n",
    "            out_n += 1 #increment output file name integer"
   ]
  },
  {
   "cell_type": "code",
   "execution_count": 28,
   "id": "8ec35c03-3ebf-40c1-909e-20d730724a17",
   "metadata": {},
   "outputs": [
    {
     "name": "stdout",
     "output_type": "stream",
     "text": [
      "['out0.txt', 'out1.txt', 'out2.txt', 'out3.txt']\n"
     ]
    }
   ],
   "source": [
    "from os import walk\n",
    "# folder path\n",
    "dir_path = out_dir\n",
    "# List to store files name\n",
    "res = []\n",
    "for (dir_path, dir_names, file_names) in walk(dir_path):\n",
    "    res.extend(file_names)\n",
    "print(res)"
   ]
  },
  {
   "cell_type": "code",
   "execution_count": 34,
   "id": "ff796f86-b4e7-455b-8bec-b53810183219",
   "metadata": {},
   "outputs": [],
   "source": [
    "name_partial=res[1]\n",
    "file_partial=os.path.join(path, \"data\", name_partial)"
   ]
  },
  {
   "cell_type": "code",
   "execution_count": 35,
   "id": "231b248a-963c-4bec-9c3b-2d587c796a02",
   "metadata": {},
   "outputs": [
    {
     "data": {
      "text/plain": [
       "'C:\\\\Users\\\\rusla\\\\Dropbox\\\\23-GITHUB\\\\Projects\\\\Free-Doctor-with-Artificial-Intelligence\\\\2-Data\\\\data\\\\out1.txt'"
      ]
     },
     "execution_count": 35,
     "metadata": {},
     "output_type": "execute_result"
    }
   ],
   "source": [
    "file_partial"
   ]
  },
  {
   "cell_type": "code",
   "execution_count": 36,
   "id": "13f8c8d9-bdfd-4e2b-bd9b-3988dd6f8a74",
   "metadata": {},
   "outputs": [],
   "source": [
    "text_as_string = open(file_partial).read()"
   ]
  },
  {
   "cell_type": "code",
   "execution_count": 37,
   "id": "a877571f-f76d-4ed8-812a-2ee352985d12",
   "metadata": {},
   "outputs": [
    {
     "data": {
      "text/plain": [
       "'https://www.icliniq.com/qa/disc-bulge/what-does-abutment-of-the-nerve-root-mean\\n\\nDescription\\nQ. What does abutment of the nerve root mean?\\n\\nDialogue\\nPatient:\\nHi doctor,I am just wondering what is abutting and abutment of the nerve root means in a back issue. Please explain. What treatment is required forÂ\\xa0annular bulging and tear?\\nDoctor:\\nHi. I have gone through your query with diligence and would like you to know that I am here to help you. For further information consult a neurologist online --> https://www.icliniq.com/ask-a-doctor-online/neurologist\\n\\n'"
      ]
     },
     "execution_count": 37,
     "metadata": {},
     "output_type": "execute_result"
    }
   ],
   "source": [
    "text_as_string"
   ]
  },
  {
   "cell_type": "code",
   "execution_count": 42,
   "id": "561a2c1f-dcc6-41ad-96bb-97143a746141",
   "metadata": {},
   "outputs": [],
   "source": [
    "keywords = {'Description', 'Dialogue', 'Patient:', '\\nDoctor:\\n'}\n",
    "string = text_as_string\n"
   ]
  },
  {
   "cell_type": "code",
   "execution_count": 43,
   "id": "b8182016-b86d-4e0d-8b16-3eb84b019761",
   "metadata": {},
   "outputs": [
    {
     "data": {
      "text/plain": [
       "['Description', 'Dialogue', 'Patient:', '\\nDoctor:\\n']"
      ]
     },
     "execution_count": 43,
     "metadata": {},
     "output_type": "execute_result"
    }
   ],
   "source": [
    "import re\n",
    "re.findall('|'.join(keywords), string)"
   ]
  },
  {
   "cell_type": "code",
   "execution_count": 45,
   "id": "ffffe227-d51c-4cd3-aa92-e33986892abe",
   "metadata": {},
   "outputs": [
    {
     "data": {
      "text/plain": [
       "'https://www.icliniq.com/qa/disc-bulge/what-does-abutment-of-the-nerve-root-mean\\n\\nDescription\\nQ. What does abutment of the nerve root mean?\\n\\nDialogue\\nPatient:\\nHi doctor,I am just wondering what is abutting and abutment of the nerve root means in a back issue. Please explain. What treatment is required forÂ\\xa0annular bulging and tear?\\nDoctor:\\nHi. I have gone through your query with diligence and would like you to know that I am here to help you. For further information consult a neurologist online --> https://www.icliniq.com/ask-a-doctor-online/neurologist\\n\\n'"
      ]
     },
     "execution_count": 45,
     "metadata": {},
     "output_type": "execute_result"
    }
   ],
   "source": [
    "string"
   ]
  },
  {
   "cell_type": "code",
   "execution_count": 63,
   "id": "5cfbac11-9413-4597-8540-fcf73cfa9067",
   "metadata": {},
   "outputs": [],
   "source": [
    "s1 = re.sub('http://\\S+|https://\\S+', '', string)\n",
    "#s2 = re.sub('http[s]?://\\S+', '', string)\n",
    "#s3 = re.sub(r\"http\\S+\", \"\", string)"
   ]
  },
  {
   "cell_type": "code",
   "execution_count": 66,
   "id": "a243876f-c7e8-44bb-8ca0-7dddc35b4027",
   "metadata": {},
   "outputs": [],
   "source": [
    "string=s1"
   ]
  },
  {
   "cell_type": "code",
   "execution_count": 67,
   "id": "a08a4347-783c-4bf5-8308-b647becd0d3c",
   "metadata": {},
   "outputs": [],
   "source": [
    "import re\n",
    "text=re.split(r'\\n(?=Description|Dialogue|Patient|Doctor)' , string)"
   ]
  },
  {
   "cell_type": "code",
   "execution_count": 68,
   "id": "1bc3b650-7f86-43a5-975b-f43987a1c038",
   "metadata": {},
   "outputs": [
    {
     "data": {
      "text/plain": [
       "['\\n',\n",
       " 'Description\\nQ. What does abutment of the nerve root mean?\\n',\n",
       " 'Dialogue',\n",
       " 'Patient:\\nHi doctor,I am just wondering what is abutting and abutment of the nerve root means in a back issue. Please explain. What treatment is required forÂ\\xa0annular bulging and tear?',\n",
       " 'Doctor:\\nHi. I have gone through your query with diligence and would like you to know that I am here to help you. For further information consult a neurologist online --> \\n\\n']"
      ]
     },
     "execution_count": 68,
     "metadata": {},
     "output_type": "execute_result"
    }
   ],
   "source": [
    "text"
   ]
  },
  {
   "cell_type": "code",
   "execution_count": 71,
   "id": "0da7341e-2cb5-4a4f-aaae-652bf7fbac4f",
   "metadata": {},
   "outputs": [
    {
     "data": {
      "text/plain": [
       "'Patient:\\nHi doctor,I am just wondering what is abutting and abutment of the nerve root means in a back issue. Please explain. What treatment is required forÂ\\xa0annular bulging and tear?'"
      ]
     },
     "execution_count": 71,
     "metadata": {},
     "output_type": "execute_result"
    }
   ],
   "source": [
    "text[3]"
   ]
  },
  {
   "cell_type": "code",
   "execution_count": 17,
   "id": "d0877956-8535-4976-94f7-ccd33d5f21f2",
   "metadata": {},
   "outputs": [],
   "source": [
    "import re\n",
    "def findword(str, word):\n",
    "    m = re.search(word, str)\n",
    "    return m"
   ]
  },
  {
   "cell_type": "code",
   "execution_count": 72,
   "id": "d83fbb9a-4861-4c67-92dc-2e8b42304124",
   "metadata": {},
   "outputs": [],
   "source": [
    "str = text[3]\n",
    "word = 'Patient:'"
   ]
  },
  {
   "cell_type": "code",
   "execution_count": 73,
   "id": "9c845e05-46cb-4187-a905-1ad827e0fed0",
   "metadata": {},
   "outputs": [
    {
     "name": "stdout",
     "output_type": "stream",
     "text": [
      "Search Success!!\n",
      "The searched word is: <re.Match object; span=(0, 8), match='Patient:'>\n"
     ]
    }
   ],
   "source": [
    "res = findword(str,word)\n",
    "if res is None:\n",
    "    print(\"Word not found!!\")\n",
    "else:\n",
    "    print(\"Search Success!!\")\n",
    "    print(\"The searched word is:\",res)"
   ]
  },
  {
   "cell_type": "code",
   "execution_count": 77,
   "id": "d0095110-5dbd-4d0b-b09d-8ec26af6e92a",
   "metadata": {},
   "outputs": [],
   "source": [
    "# Python program to convert text\n",
    "# file to JSON\n",
    "import json\n",
    "# the file to be converted to\n",
    "# json format\n",
    "lines = str"
   ]
  },
  {
   "cell_type": "code",
   "execution_count": 78,
   "id": "41cc3f69-3597-4a74-8031-d0c43c5c7f9a",
   "metadata": {},
   "outputs": [
    {
     "data": {
      "text/plain": [
       "'Patient:\\nHi doctor,I am just wondering what is abutting and abutment of the nerve root means in a back issue. Please explain. What treatment is required forÂ\\xa0annular bulging and tear?'"
      ]
     },
     "execution_count": 78,
     "metadata": {},
     "output_type": "execute_result"
    }
   ],
   "source": [
    "lines"
   ]
  },
  {
   "cell_type": "code",
   "execution_count": 75,
   "id": "5cfa2ac5-d336-4dea-99fa-3d090492d145",
   "metadata": {},
   "outputs": [],
   "source": [
    "command = word[:-1]"
   ]
  },
  {
   "cell_type": "code",
   "execution_count": 85,
   "id": "3d8e7d94-3bf9-4644-9721-052034ac1f18",
   "metadata": {},
   "outputs": [],
   "source": [
    "# dictionary where the lines from\n",
    "# text will be stored\n",
    "dict1 = {}"
   ]
  },
  {
   "cell_type": "code",
   "execution_count": 84,
   "id": "940f0560-2533-4f12-a740-b58905dc7592",
   "metadata": {},
   "outputs": [
    {
     "data": {
      "text/plain": [
       "['Patient:',\n",
       " 'Hi doctor,I am just wondering what is abutting and abutment of the nerve root means in a back issue. Please explain. What treatment is required forÂ\\xa0annular bulging and tear?']"
      ]
     },
     "execution_count": 84,
     "metadata": {},
     "output_type": "execute_result"
    }
   ],
   "source": [
    "# reads each line and trims of extra the spaces\n",
    "# and gives only the valid words\n",
    "lines.strip().split(None, 1)"
   ]
  },
  {
   "cell_type": "code",
   "execution_count": 88,
   "id": "8fdd2b09-c467-475d-808b-d06e05e14193",
   "metadata": {},
   "outputs": [],
   "source": [
    "command, content = lines.strip().split(None, 1)"
   ]
  },
  {
   "cell_type": "code",
   "execution_count": 91,
   "id": "4aa57ce6-ea98-4a0b-99f0-7fbedf94f9fd",
   "metadata": {},
   "outputs": [],
   "source": [
    "command=command.replace(\":\",\"\")"
   ]
  },
  {
   "cell_type": "code",
   "execution_count": 92,
   "id": "af5d9c5b-bd1a-42cc-b26e-432072c0f570",
   "metadata": {},
   "outputs": [
    {
     "data": {
      "text/plain": [
       "'Hi doctor,I am just wondering what is abutting and abutment of the nerve root means in a back issue. Please explain. What treatment is required forÂ\\xa0annular bulging and tear?'"
      ]
     },
     "execution_count": 92,
     "metadata": {},
     "output_type": "execute_result"
    }
   ],
   "source": [
    "content"
   ]
  },
  {
   "cell_type": "code",
   "execution_count": 93,
   "id": "ce03d90a-9e89-4f97-9ca5-48357b35fc39",
   "metadata": {},
   "outputs": [
    {
     "data": {
      "text/plain": [
       "'Hi doctor,I am just wondering what is abutting and abutment of the nerve root means in a back issue. Please explain. What treatment is required forÂ\\xa0annular bulging and tear?'"
      ]
     },
     "execution_count": 93,
     "metadata": {},
     "output_type": "execute_result"
    }
   ],
   "source": [
    "content.strip()"
   ]
  },
  {
   "cell_type": "code",
   "execution_count": 94,
   "id": "b81947f5-1422-4f79-8a01-f811cba28494",
   "metadata": {},
   "outputs": [],
   "source": [
    "dict1[command] = content.strip()"
   ]
  },
  {
   "cell_type": "code",
   "execution_count": 95,
   "id": "ec93afcc-0bd9-4aab-ba02-59f02ce39cab",
   "metadata": {},
   "outputs": [
    {
     "data": {
      "text/plain": [
       "{'Patient': 'Hi doctor,I am just wondering what is abutting and abutment of the nerve root means in a back issue. Please explain. What treatment is required forÂ\\xa0annular bulging and tear?'}"
      ]
     },
     "execution_count": 95,
     "metadata": {},
     "output_type": "execute_result"
    }
   ],
   "source": [
    "dict1"
   ]
  },
  {
   "cell_type": "code",
   "execution_count": 99,
   "id": "e2c24360-8dda-417c-87e8-d9dd0a09db87",
   "metadata": {},
   "outputs": [],
   "source": []
  },
  {
   "cell_type": "code",
   "execution_count": null,
   "id": "0ccb6a62-d042-49cb-9802-b1060c7f6387",
   "metadata": {},
   "outputs": [],
   "source": [
    "import pandas as pd\n",
    "import json"
   ]
  },
  {
   "cell_type": "code",
   "execution_count": 103,
   "id": "cfddab81-600e-41be-84ad-d3f04577a175",
   "metadata": {},
   "outputs": [],
   "source": [
    "df=pd.DataFrame([dict1])"
   ]
  },
  {
   "cell_type": "code",
   "execution_count": 105,
   "id": "fe5a36b5-664c-48fb-ac46-3304507b32e0",
   "metadata": {},
   "outputs": [
    {
     "name": "stdout",
     "output_type": "stream",
     "text": [
      "The output dataframe is:\n"
     ]
    },
    {
     "data": {
      "text/html": [
       "<div>\n",
       "<style scoped>\n",
       "    .dataframe tbody tr th:only-of-type {\n",
       "        vertical-align: middle;\n",
       "    }\n",
       "\n",
       "    .dataframe tbody tr th {\n",
       "        vertical-align: top;\n",
       "    }\n",
       "\n",
       "    .dataframe thead th {\n",
       "        text-align: right;\n",
       "    }\n",
       "</style>\n",
       "<table border=\"1\" class=\"dataframe\">\n",
       "  <thead>\n",
       "    <tr style=\"text-align: right;\">\n",
       "      <th></th>\n",
       "      <th>Patient</th>\n",
       "    </tr>\n",
       "  </thead>\n",
       "  <tbody>\n",
       "    <tr>\n",
       "      <th>0</th>\n",
       "      <td>Hi doctor,I am just wondering what is abutting...</td>\n",
       "    </tr>\n",
       "  </tbody>\n",
       "</table>\n",
       "</div>"
      ],
      "text/plain": [
       "                                             Patient\n",
       "0  Hi doctor,I am just wondering what is abutting..."
      ]
     },
     "execution_count": 105,
     "metadata": {},
     "output_type": "execute_result"
    }
   ],
   "source": [
    "print(\"The output dataframe is:\")\n",
    "df"
   ]
  },
  {
   "cell_type": "code",
   "execution_count": null,
   "id": "4f14eccc-6292-45f5-9348-a8d08212f6b2",
   "metadata": {},
   "outputs": [],
   "source": [
    "create_dataframe(text_as_string):\n"
   ]
  },
  {
   "cell_type": "code",
   "execution_count": 98,
   "id": "ea8ed542-bd4b-40c7-874b-4a30cbe051e7",
   "metadata": {},
   "outputs": [],
   "source": []
  },
  {
   "cell_type": "code",
   "execution_count": null,
   "id": "b3bc4ea1-2d0f-4d25-bc67-248524677883",
   "metadata": {},
   "outputs": [],
   "source": [
    "\n"
   ]
  }
 ],
 "metadata": {
  "kernelspec": {
   "display_name": "Python3 (GPT)",
   "language": "python",
   "name": "gpt"
  },
  "language_info": {
   "codemirror_mode": {
    "name": "ipython",
    "version": 3
   },
   "file_extension": ".py",
   "mimetype": "text/x-python",
   "name": "python",
   "nbconvert_exporter": "python",
   "pygments_lexer": "ipython3",
   "version": "3.10.11"
  }
 },
 "nbformat": 4,
 "nbformat_minor": 5
}
