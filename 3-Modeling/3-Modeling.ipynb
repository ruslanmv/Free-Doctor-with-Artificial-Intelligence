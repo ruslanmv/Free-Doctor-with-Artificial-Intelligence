{
 "cells": [
  {
   "cell_type": "markdown",
   "id": "fe1e3c26-5d02-416f-a468-24c044b80592",
   "metadata": {},
   "source": [
    "# Part 3 - Modeling of Free Doctor with AI\r\n"
   ]
  },
  {
   "cell_type": "code",
   "execution_count": 68,
   "id": "e5354d8e-f1b5-432d-a079-5f177a3fb438",
   "metadata": {},
   "outputs": [],
   "source": [
    "import pandas as pd"
   ]
  },
  {
   "cell_type": "code",
   "execution_count": 69,
   "id": "94d9a4b0-f9fd-4e27-8f0f-7782538c4a64",
   "metadata": {},
   "outputs": [],
   "source": [
    "df = pd.read_csv(\"../2-Data/dialogues_embededd.csv\", sep = '\\t')"
   ]
  },
  {
   "cell_type": "code",
   "execution_count": 70,
   "id": "cfd159ba-529b-45b6-b4a4-bacce9a59e2e",
   "metadata": {},
   "outputs": [
    {
     "data": {
      "text/plain": [
       "(5, 6)"
      ]
     },
     "execution_count": 70,
     "metadata": {},
     "output_type": "execute_result"
    }
   ],
   "source": [
    "df.shape"
   ]
  },
  {
   "cell_type": "code",
   "execution_count": 71,
   "id": "38625075-4aa7-4157-87df-fe813af57933",
   "metadata": {},
   "outputs": [
    {
     "data": {
      "text/html": [
       "<div>\n",
       "<style scoped>\n",
       "    .dataframe tbody tr th:only-of-type {\n",
       "        vertical-align: middle;\n",
       "    }\n",
       "\n",
       "    .dataframe tbody tr th {\n",
       "        vertical-align: top;\n",
       "    }\n",
       "\n",
       "    .dataframe thead th {\n",
       "        text-align: right;\n",
       "    }\n",
       "</style>\n",
       "<table border=\"1\" class=\"dataframe\">\n",
       "  <thead>\n",
       "    <tr style=\"text-align: right;\">\n",
       "      <th></th>\n",
       "      <th>Description</th>\n",
       "      <th>Patient</th>\n",
       "      <th>Doctor</th>\n",
       "      <th>combined</th>\n",
       "      <th>n_tokens</th>\n",
       "      <th>embedding</th>\n",
       "    </tr>\n",
       "  </thead>\n",
       "  <tbody>\n",
       "    <tr>\n",
       "      <th>0</th>\n",
       "      <td>Q. What does abutment of the nerve root mean?</td>\n",
       "      <td>Hi doctor,I am just wondering what is abutting...</td>\n",
       "      <td>Hi. I have gone through your query with dilige...</td>\n",
       "      <td>Description: Q. What does abutment of the nerv...</td>\n",
       "      <td>58</td>\n",
       "      <td>[-1.67817205e-01  2.55047768e-01  3.29951972e-...</td>\n",
       "    </tr>\n",
       "    <tr>\n",
       "      <th>1</th>\n",
       "      <td>Q. What should I do to reduce my weight gained...</td>\n",
       "      <td>Hi doctor, I am a 22-year-old female who was d...</td>\n",
       "      <td>Hi. You have really done well with the hypothy...</td>\n",
       "      <td>Description: Q. What should I do to reduce my ...</td>\n",
       "      <td>173</td>\n",
       "      <td>[-2.06034780e-01  1.93324193e-01  1.33185938e-...</td>\n",
       "    </tr>\n",
       "    <tr>\n",
       "      <th>2</th>\n",
       "      <td>Q. I have started to get lots of acne on my fa...</td>\n",
       "      <td>Hi doctor! I used to have clear skin but since...</td>\n",
       "      <td>Hi there Acne has multifactorial etiology. Onl...</td>\n",
       "      <td>Description: Q. I have started to get lots of ...</td>\n",
       "      <td>174</td>\n",
       "      <td>[-2.96002716e-01  1.32509321e-01 -1.22884579e-...</td>\n",
       "    </tr>\n",
       "    <tr>\n",
       "      <th>3</th>\n",
       "      <td>Q. Why do I have uncomfortable feeling between...</td>\n",
       "      <td>Hello doctor,I am having an uncomfortable feel...</td>\n",
       "      <td>Hello. The popping and discomfort what you fel...</td>\n",
       "      <td>Description: Q. Why do I have uncomfortable fe...</td>\n",
       "      <td>189</td>\n",
       "      <td>[-1.34404883e-01 -1.82982177e-01 -1.25648767e-...</td>\n",
       "    </tr>\n",
       "    <tr>\n",
       "      <th>4</th>\n",
       "      <td>Q. My symptoms after intercourse threatns me e...</td>\n",
       "      <td>Hello doctor,Before two years had sex with a c...</td>\n",
       "      <td>Hello. The HIV test uses a finger prick blood ...</td>\n",
       "      <td>Description: Q. My symptoms after intercourse ...</td>\n",
       "      <td>295</td>\n",
       "      <td>[-6.82307929e-02  2.34222382e-01  4.62034792e-...</td>\n",
       "    </tr>\n",
       "  </tbody>\n",
       "</table>\n",
       "</div>"
      ],
      "text/plain": [
       "                                         Description  \\\n",
       "0      Q. What does abutment of the nerve root mean?   \n",
       "1  Q. What should I do to reduce my weight gained...   \n",
       "2  Q. I have started to get lots of acne on my fa...   \n",
       "3  Q. Why do I have uncomfortable feeling between...   \n",
       "4  Q. My symptoms after intercourse threatns me e...   \n",
       "\n",
       "                                             Patient  \\\n",
       "0  Hi doctor,I am just wondering what is abutting...   \n",
       "1  Hi doctor, I am a 22-year-old female who was d...   \n",
       "2  Hi doctor! I used to have clear skin but since...   \n",
       "3  Hello doctor,I am having an uncomfortable feel...   \n",
       "4  Hello doctor,Before two years had sex with a c...   \n",
       "\n",
       "                                              Doctor  \\\n",
       "0  Hi. I have gone through your query with dilige...   \n",
       "1  Hi. You have really done well with the hypothy...   \n",
       "2  Hi there Acne has multifactorial etiology. Onl...   \n",
       "3  Hello. The popping and discomfort what you fel...   \n",
       "4  Hello. The HIV test uses a finger prick blood ...   \n",
       "\n",
       "                                            combined  n_tokens  \\\n",
       "0  Description: Q. What does abutment of the nerv...        58   \n",
       "1  Description: Q. What should I do to reduce my ...       173   \n",
       "2  Description: Q. I have started to get lots of ...       174   \n",
       "3  Description: Q. Why do I have uncomfortable fe...       189   \n",
       "4  Description: Q. My symptoms after intercourse ...       295   \n",
       "\n",
       "                                           embedding  \n",
       "0  [-1.67817205e-01  2.55047768e-01  3.29951972e-...  \n",
       "1  [-2.06034780e-01  1.93324193e-01  1.33185938e-...  \n",
       "2  [-2.96002716e-01  1.32509321e-01 -1.22884579e-...  \n",
       "3  [-1.34404883e-01 -1.82982177e-01 -1.25648767e-...  \n",
       "4  [-6.82307929e-02  2.34222382e-01  4.62034792e-...  "
      ]
     },
     "execution_count": 71,
     "metadata": {},
     "output_type": "execute_result"
    }
   ],
   "source": [
    "df"
   ]
  },
  {
   "cell_type": "markdown",
   "id": "935b3cb0-346d-4248-bb9c-ed642963080d",
   "metadata": {},
   "source": [
    "In ordering to create our model, we need to create an additional feature that is the Relevance"
   ]
  },
  {
   "cell_type": "code",
   "execution_count": null,
   "id": "716785c7-81ce-42d5-bca4-2003e5ac2ddd",
   "metadata": {},
   "outputs": [],
   "source": []
  }
 ],
 "metadata": {
  "kernelspec": {
   "display_name": "Python3 (GPT)",
   "language": "python",
   "name": "gpt"
  },
  "language_info": {
   "codemirror_mode": {
    "name": "ipython",
    "version": 3
   },
   "file_extension": ".py",
   "mimetype": "text/x-python",
   "name": "python",
   "nbconvert_exporter": "python",
   "pygments_lexer": "ipython3",
   "version": "3.10.11"
  }
 },
 "nbformat": 4,
 "nbformat_minor": 5
}
