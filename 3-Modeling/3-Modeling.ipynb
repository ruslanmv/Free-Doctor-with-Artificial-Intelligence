{
 "cells": [
  {
   "cell_type": "markdown",
   "id": "fe1e3c26-5d02-416f-a468-24c044b80592",
   "metadata": {},
   "source": [
    "# Part 3 - Modeling of Free Doctor with AI\r\n"
   ]
  },
  {
   "cell_type": "code",
   "execution_count": 2,
   "id": "e5354d8e-f1b5-432d-a079-5f177a3fb438",
   "metadata": {},
   "outputs": [],
   "source": [
    "import pandas as pd"
   ]
  },
  {
   "cell_type": "code",
   "execution_count": 6,
   "id": "94d9a4b0-f9fd-4e27-8f0f-7782538c4a64",
   "metadata": {},
   "outputs": [],
   "source": [
    "df = pd.read_csv(\"../2-Data/dialogues.csv\", sep = '\\t')"
   ]
  },
  {
   "cell_type": "code",
   "execution_count": 7,
   "id": "cfd159ba-529b-45b6-b4a4-bacce9a59e2e",
   "metadata": {},
   "outputs": [
    {
     "data": {
      "text/plain": [
       "(256916, 3)"
      ]
     },
     "execution_count": 7,
     "metadata": {},
     "output_type": "execute_result"
    }
   ],
   "source": [
    "df.shape"
   ]
  },
  {
   "cell_type": "code",
   "execution_count": 8,
   "id": "38625075-4aa7-4157-87df-fe813af57933",
   "metadata": {},
   "outputs": [
    {
     "data": {
      "text/html": [
       "<div>\n",
       "<style scoped>\n",
       "    .dataframe tbody tr th:only-of-type {\n",
       "        vertical-align: middle;\n",
       "    }\n",
       "\n",
       "    .dataframe tbody tr th {\n",
       "        vertical-align: top;\n",
       "    }\n",
       "\n",
       "    .dataframe thead th {\n",
       "        text-align: right;\n",
       "    }\n",
       "</style>\n",
       "<table border=\"1\" class=\"dataframe\">\n",
       "  <thead>\n",
       "    <tr style=\"text-align: right;\">\n",
       "      <th></th>\n",
       "      <th>Description</th>\n",
       "      <th>Patient</th>\n",
       "      <th>Doctor</th>\n",
       "    </tr>\n",
       "  </thead>\n",
       "  <tbody>\n",
       "    <tr>\n",
       "      <th>0</th>\n",
       "      <td>Q. What does abutment of the nerve root mean?</td>\n",
       "      <td>Hi doctor,I am just wondering what is abutting...</td>\n",
       "      <td>Hi. I have gone through your query with dilige...</td>\n",
       "    </tr>\n",
       "    <tr>\n",
       "      <th>1</th>\n",
       "      <td>Q. What should I do to reduce my weight gained...</td>\n",
       "      <td>Hi doctor, I am a 22-year-old female who was d...</td>\n",
       "      <td>Hi. You have really done well with the hypothy...</td>\n",
       "    </tr>\n",
       "    <tr>\n",
       "      <th>2</th>\n",
       "      <td>Q. I have started to get lots of acne on my fa...</td>\n",
       "      <td>Hi doctor! I used to have clear skin but since...</td>\n",
       "      <td>Hi there Acne has multifactorial etiology. Onl...</td>\n",
       "    </tr>\n",
       "    <tr>\n",
       "      <th>3</th>\n",
       "      <td>Q. Why do I have uncomfortable feeling between...</td>\n",
       "      <td>Hello doctor,I am having an uncomfortable feel...</td>\n",
       "      <td>Hello. The popping and discomfort what you fel...</td>\n",
       "    </tr>\n",
       "    <tr>\n",
       "      <th>4</th>\n",
       "      <td>Q. My symptoms after intercourse threatns me e...</td>\n",
       "      <td>Hello doctor,Before two years had sex with a c...</td>\n",
       "      <td>Hello. The HIV test uses a finger prick blood ...</td>\n",
       "    </tr>\n",
       "    <tr>\n",
       "      <th>...</th>\n",
       "      <td>...</td>\n",
       "      <td>...</td>\n",
       "      <td>...</td>\n",
       "    </tr>\n",
       "    <tr>\n",
       "      <th>256911</th>\n",
       "      <td>Why is hair fall increasing while using Bontre...</td>\n",
       "      <td>I am suffering from excessive hairfall. My doc...</td>\n",
       "      <td>Hello Dear Thanks for writing to us, we are he...</td>\n",
       "    </tr>\n",
       "    <tr>\n",
       "      <th>256912</th>\n",
       "      <td>Why was I asked to discontinue Androanagen whi...</td>\n",
       "      <td>Hi Doctor, I have been having severe hair fall...</td>\n",
       "      <td>hello,        hair4u is combination of minoxid...</td>\n",
       "    </tr>\n",
       "    <tr>\n",
       "      <th>256913</th>\n",
       "      <td>Can Mintop 5% Lotion be used by women for seve...</td>\n",
       "      <td>Hi..i hav sever hair loss problem so consulted...</td>\n",
       "      <td>HI  I have evaluated your query thoroughly you...</td>\n",
       "    </tr>\n",
       "    <tr>\n",
       "      <th>256914</th>\n",
       "      <td>Is Minoxin 5% lotion advisable instead of Foli...</td>\n",
       "      <td>Hi, i am 25 year old girl, i am having massive...</td>\n",
       "      <td>Hello and Welcome to ‘Ask A Doctor’ service.I ...</td>\n",
       "    </tr>\n",
       "    <tr>\n",
       "      <th>256915</th>\n",
       "      <td>Are Biotin supplements need to reduce severe h...</td>\n",
       "      <td>iam having hairfall for a decade.. but fews we...</td>\n",
       "      <td>you did'nt mention about thyroid problem ...us...</td>\n",
       "    </tr>\n",
       "  </tbody>\n",
       "</table>\n",
       "<p>256916 rows × 3 columns</p>\n",
       "</div>"
      ],
      "text/plain": [
       "                                              Description  \\\n",
       "0           Q. What does abutment of the nerve root mean?   \n",
       "1       Q. What should I do to reduce my weight gained...   \n",
       "2       Q. I have started to get lots of acne on my fa...   \n",
       "3       Q. Why do I have uncomfortable feeling between...   \n",
       "4       Q. My symptoms after intercourse threatns me e...   \n",
       "...                                                   ...   \n",
       "256911  Why is hair fall increasing while using Bontre...   \n",
       "256912  Why was I asked to discontinue Androanagen whi...   \n",
       "256913  Can Mintop 5% Lotion be used by women for seve...   \n",
       "256914  Is Minoxin 5% lotion advisable instead of Foli...   \n",
       "256915  Are Biotin supplements need to reduce severe h...   \n",
       "\n",
       "                                                  Patient  \\\n",
       "0       Hi doctor,I am just wondering what is abutting...   \n",
       "1       Hi doctor, I am a 22-year-old female who was d...   \n",
       "2       Hi doctor! I used to have clear skin but since...   \n",
       "3       Hello doctor,I am having an uncomfortable feel...   \n",
       "4       Hello doctor,Before two years had sex with a c...   \n",
       "...                                                   ...   \n",
       "256911  I am suffering from excessive hairfall. My doc...   \n",
       "256912  Hi Doctor, I have been having severe hair fall...   \n",
       "256913  Hi..i hav sever hair loss problem so consulted...   \n",
       "256914  Hi, i am 25 year old girl, i am having massive...   \n",
       "256915  iam having hairfall for a decade.. but fews we...   \n",
       "\n",
       "                                                   Doctor  \n",
       "0       Hi. I have gone through your query with dilige...  \n",
       "1       Hi. You have really done well with the hypothy...  \n",
       "2       Hi there Acne has multifactorial etiology. Onl...  \n",
       "3       Hello. The popping and discomfort what you fel...  \n",
       "4       Hello. The HIV test uses a finger prick blood ...  \n",
       "...                                                   ...  \n",
       "256911  Hello Dear Thanks for writing to us, we are he...  \n",
       "256912  hello,        hair4u is combination of minoxid...  \n",
       "256913  HI  I have evaluated your query thoroughly you...  \n",
       "256914  Hello and Welcome to ‘Ask A Doctor’ service.I ...  \n",
       "256915  you did'nt mention about thyroid problem ...us...  \n",
       "\n",
       "[256916 rows x 3 columns]"
      ]
     },
     "execution_count": 8,
     "metadata": {},
     "output_type": "execute_result"
    }
   ],
   "source": [
    "df"
   ]
  },
  {
   "cell_type": "markdown",
   "id": "935b3cb0-346d-4248-bb9c-ed642963080d",
   "metadata": {},
   "source": [
    "In ordering to create our model, we need to create an additional feature that is the Relevance"
   ]
  },
  {
   "cell_type": "markdown",
   "id": "32e2dc51-f79c-45e9-aa97-d70f27ad9441",
   "metadata": {},
   "source": [
    "We define our list of sentences. You can use a larger list (it is best to use a list of sentences for easier processing of each sentence)"
   ]
  },
  {
   "cell_type": "markdown",
   "id": "4b45ed6d-ef5a-4d93-b146-38829d24fa4f",
   "metadata": {},
   "source": [
    "We can install Sentence BERT using:\n",
    "`!pip install sentence-transformers`\n"
   ]
  },
  {
   "cell_type": "markdown",
   "id": "9977d0d8-55d9-4b2b-a8e1-04153c987732",
   "metadata": {},
   "source": [
    "\n",
    "Step 1: We will then load the pre-trained BERT model. There are many other pre-trained models available."
   ]
  },
  {
   "cell_type": "code",
   "execution_count": 37,
   "id": "7c381959-7916-4b11-b229-3d76d07a1272",
   "metadata": {},
   "outputs": [
    {
     "data": {
      "application/vnd.jupyter.widget-view+json": {
       "model_id": "6995d7bbf9fb4021881daa8eef0bebd0",
       "version_major": 2,
       "version_minor": 0
      },
      "text/plain": [
       "Downloading (…)821d1/.gitattributes:   0%|          | 0.00/391 [00:00<?, ?B/s]"
      ]
     },
     "metadata": {},
     "output_type": "display_data"
    },
    {
     "data": {
      "application/vnd.jupyter.widget-view+json": {
       "model_id": "1736aa32e1874204802e4540cd4092c9",
       "version_major": 2,
       "version_minor": 0
      },
      "text/plain": [
       "Downloading (…)_Pooling/config.json:   0%|          | 0.00/190 [00:00<?, ?B/s]"
      ]
     },
     "metadata": {},
     "output_type": "display_data"
    },
    {
     "data": {
      "application/vnd.jupyter.widget-view+json": {
       "model_id": "af888aecbd45482b96cbad59d8c8a2d2",
       "version_major": 2,
       "version_minor": 0
      },
      "text/plain": [
       "Downloading (…)8d01e821d1/README.md:   0%|          | 0.00/3.95k [00:00<?, ?B/s]"
      ]
     },
     "metadata": {},
     "output_type": "display_data"
    },
    {
     "data": {
      "application/vnd.jupyter.widget-view+json": {
       "model_id": "f446fef223194c8397a2dc1ccb90afc3",
       "version_major": 2,
       "version_minor": 0
      },
      "text/plain": [
       "Downloading (…)d1/added_tokens.json:   0%|          | 0.00/2.00 [00:00<?, ?B/s]"
      ]
     },
     "metadata": {},
     "output_type": "display_data"
    },
    {
     "data": {
      "application/vnd.jupyter.widget-view+json": {
       "model_id": "950aa811e50b4bf5896554f81eafe405",
       "version_major": 2,
       "version_minor": 0
      },
      "text/plain": [
       "Downloading (…)01e821d1/config.json:   0%|          | 0.00/625 [00:00<?, ?B/s]"
      ]
     },
     "metadata": {},
     "output_type": "display_data"
    },
    {
     "data": {
      "application/vnd.jupyter.widget-view+json": {
       "model_id": "b1a2faf5e3c14ac7ba4ed3b649428d85",
       "version_major": 2,
       "version_minor": 0
      },
      "text/plain": [
       "Downloading (…)ce_transformers.json:   0%|          | 0.00/122 [00:00<?, ?B/s]"
      ]
     },
     "metadata": {},
     "output_type": "display_data"
    },
    {
     "data": {
      "application/vnd.jupyter.widget-view+json": {
       "model_id": "73f11d99278c47649496bcac4f0c52e5",
       "version_major": 2,
       "version_minor": 0
      },
      "text/plain": [
       "Downloading pytorch_model.bin:   0%|          | 0.00/438M [00:00<?, ?B/s]"
      ]
     },
     "metadata": {},
     "output_type": "display_data"
    },
    {
     "data": {
      "application/vnd.jupyter.widget-view+json": {
       "model_id": "56b106b6b4ae412b86cde700504aefb0",
       "version_major": 2,
       "version_minor": 0
      },
      "text/plain": [
       "Downloading (…)nce_bert_config.json:   0%|          | 0.00/53.0 [00:00<?, ?B/s]"
      ]
     },
     "metadata": {},
     "output_type": "display_data"
    },
    {
     "data": {
      "application/vnd.jupyter.widget-view+json": {
       "model_id": "8a98b9069b9542ef8a4d660f161ace12",
       "version_major": 2,
       "version_minor": 0
      },
      "text/plain": [
       "Downloading (…)cial_tokens_map.json:   0%|          | 0.00/112 [00:00<?, ?B/s]"
      ]
     },
     "metadata": {},
     "output_type": "display_data"
    },
    {
     "data": {
      "application/vnd.jupyter.widget-view+json": {
       "model_id": "fc06051aaf0e41e89c237d184cd4d211",
       "version_major": 2,
       "version_minor": 0
      },
      "text/plain": [
       "Downloading (…)821d1/tokenizer.json:   0%|          | 0.00/466k [00:00<?, ?B/s]"
      ]
     },
     "metadata": {},
     "output_type": "display_data"
    },
    {
     "data": {
      "application/vnd.jupyter.widget-view+json": {
       "model_id": "a11e3c8414434c5eaf59771f73d7ee42",
       "version_major": 2,
       "version_minor": 0
      },
      "text/plain": [
       "Downloading (…)okenizer_config.json:   0%|          | 0.00/399 [00:00<?, ?B/s]"
      ]
     },
     "metadata": {},
     "output_type": "display_data"
    },
    {
     "data": {
      "application/vnd.jupyter.widget-view+json": {
       "model_id": "51b5bee7ec8d44d6bc5eb7a607c3366a",
       "version_major": 2,
       "version_minor": 0
      },
      "text/plain": [
       "Downloading (…)8d01e821d1/vocab.txt:   0%|          | 0.00/232k [00:00<?, ?B/s]"
      ]
     },
     "metadata": {},
     "output_type": "display_data"
    },
    {
     "data": {
      "application/vnd.jupyter.widget-view+json": {
       "model_id": "6f6937898c16460cbce1c4345bb67e09",
       "version_major": 2,
       "version_minor": 0
      },
      "text/plain": [
       "Downloading (…)1e821d1/modules.json:   0%|          | 0.00/229 [00:00<?, ?B/s]"
      ]
     },
     "metadata": {},
     "output_type": "display_data"
    }
   ],
   "source": [
    "from sentence_transformers import SentenceTransformer\n",
    "sbert_model = SentenceTransformer('bert-base-nli-mean-tokens')"
   ]
  },
  {
   "cell_type": "code",
   "execution_count": 62,
   "id": "995a7d18-f130-4011-8436-35d0c3ec1b3d",
   "metadata": {},
   "outputs": [
    {
     "name": "stdout",
     "output_type": "stream",
     "text": [
      "{'am': 0, 'doga': 2, 'dog': 1}\n",
      "[1.         1.40546511 1.40546511]\n",
      "(1, 3)\n",
      "[[0.57973867 0.         0.81480247]]\n"
     ]
    }
   ],
   "source": [
    "from sklearn.feature_extraction.text import TfidfVectorizer\n",
    "# list of text documents\n",
    "text = [\"I am doga.\",\n",
    "       \"I am a dog\"]\n",
    "# create the transform\n",
    "vectorizer = TfidfVectorizer()\n",
    "# tokenize and build vocab\n",
    "vectorizer.fit(text)\n",
    "# summarize\n",
    "print(vectorizer.vocabulary_)\n",
    "print(vectorizer.idf_)\n",
    "# encode document\n",
    "vector = vectorizer.transform([text[0]])\n",
    "# summarize encoded vector\n",
    "print(vector.shape)\n",
    "print(vector.toarray())"
   ]
  },
  {
   "cell_type": "code",
   "execution_count": 61,
   "id": "fc083f22-0c19-4f54-9b2e-0514b390a4e7",
   "metadata": {},
   "outputs": [
    {
     "name": "stdout",
     "output_type": "stream",
     "text": [
      "(2, 20)\n",
      "[[ 0.          0.          0.          0.          0.          0.\n",
      "   0.          0.          0.          0.          0.          0.\n",
      "   0.         -0.70710678  0.          0.70710678  0.          0.\n",
      "   0.          0.        ]\n",
      " [ 0.          0.          0.          0.          0.          0.\n",
      "   0.          0.          0.          0.          0.          0.\n",
      "   0.         -0.70710678  0.          0.70710678  0.          0.\n",
      "   0.          0.        ]]\n"
     ]
    }
   ],
   "source": [
    "from sklearn.feature_extraction.text import HashingVectorizer\n",
    "# list of text documents\n",
    "text = [\"I am  doc.\", \"I am dog\"]\n",
    "# create the transform\n",
    "vectorizer = HashingVectorizer(n_features=20)\n",
    "# encode document\n",
    "vector = vectorizer.transform(text)\n",
    "# summarize encoded vector\n",
    "print(vector.shape)\n",
    "print(vector.toarray())"
   ]
  },
  {
   "cell_type": "code",
   "execution_count": 63,
   "id": "6a923efb-7827-4114-8284-8164e8fd9030",
   "metadata": {},
   "outputs": [
    {
     "data": {
      "application/vnd.jupyter.widget-view+json": {
       "model_id": "53f7c557f188484cb14c99d55c3fe35e",
       "version_major": 2,
       "version_minor": 0
      },
      "text/plain": [
       "Downloading (…)001fa/.gitattributes:   0%|          | 0.00/690 [00:00<?, ?B/s]"
      ]
     },
     "metadata": {},
     "output_type": "display_data"
    },
    {
     "data": {
      "application/vnd.jupyter.widget-view+json": {
       "model_id": "cc7dc60b9c6542cdb23b55a166754ced",
       "version_major": 2,
       "version_minor": 0
      },
      "text/plain": [
       "Downloading (…)_Pooling/config.json:   0%|          | 0.00/190 [00:00<?, ?B/s]"
      ]
     },
     "metadata": {},
     "output_type": "display_data"
    },
    {
     "data": {
      "application/vnd.jupyter.widget-view+json": {
       "model_id": "d1a1acf8dc60488ca694d9ad1c0f9305",
       "version_major": 2,
       "version_minor": 0
      },
      "text/plain": [
       "Downloading (…)3bbb8001fa/README.md:   0%|          | 0.00/3.69k [00:00<?, ?B/s]"
      ]
     },
     "metadata": {},
     "output_type": "display_data"
    },
    {
     "data": {
      "application/vnd.jupyter.widget-view+json": {
       "model_id": "1d9718b2630947768d43b8ccd31ce56f",
       "version_major": 2,
       "version_minor": 0
      },
      "text/plain": [
       "Downloading (…)bb8001fa/config.json:   0%|          | 0.00/629 [00:00<?, ?B/s]"
      ]
     },
     "metadata": {},
     "output_type": "display_data"
    },
    {
     "data": {
      "application/vnd.jupyter.widget-view+json": {
       "model_id": "20a8415f24ee4918bf00c0e3ee39b583",
       "version_major": 2,
       "version_minor": 0
      },
      "text/plain": [
       "Downloading (…)ce_transformers.json:   0%|          | 0.00/122 [00:00<?, ?B/s]"
      ]
     },
     "metadata": {},
     "output_type": "display_data"
    },
    {
     "data": {
      "application/vnd.jupyter.widget-view+json": {
       "model_id": "9f815491097740e5b42fad0a9a0a38e8",
       "version_major": 2,
       "version_minor": 0
      },
      "text/plain": [
       "Downloading pytorch_model.bin:   0%|          | 0.00/90.9M [00:00<?, ?B/s]"
      ]
     },
     "metadata": {},
     "output_type": "display_data"
    },
    {
     "data": {
      "application/vnd.jupyter.widget-view+json": {
       "model_id": "e9ff28ee365e4acf9e939315bcd49b64",
       "version_major": 2,
       "version_minor": 0
      },
      "text/plain": [
       "Downloading (…)nce_bert_config.json:   0%|          | 0.00/53.0 [00:00<?, ?B/s]"
      ]
     },
     "metadata": {},
     "output_type": "display_data"
    },
    {
     "data": {
      "application/vnd.jupyter.widget-view+json": {
       "model_id": "7949c00b66a546cca3151253bebd7688",
       "version_major": 2,
       "version_minor": 0
      },
      "text/plain": [
       "Downloading (…)cial_tokens_map.json:   0%|          | 0.00/112 [00:00<?, ?B/s]"
      ]
     },
     "metadata": {},
     "output_type": "display_data"
    },
    {
     "data": {
      "application/vnd.jupyter.widget-view+json": {
       "model_id": "175941ef6cca4cdcab80ee0994e21b00",
       "version_major": 2,
       "version_minor": 0
      },
      "text/plain": [
       "Downloading (…)001fa/tokenizer.json:   0%|          | 0.00/466k [00:00<?, ?B/s]"
      ]
     },
     "metadata": {},
     "output_type": "display_data"
    },
    {
     "data": {
      "application/vnd.jupyter.widget-view+json": {
       "model_id": "a2c947c16a4d4a5cadcd768e78b6aa0a",
       "version_major": 2,
       "version_minor": 0
      },
      "text/plain": [
       "Downloading (…)okenizer_config.json:   0%|          | 0.00/314 [00:00<?, ?B/s]"
      ]
     },
     "metadata": {},
     "output_type": "display_data"
    },
    {
     "data": {
      "application/vnd.jupyter.widget-view+json": {
       "model_id": "41a6832c18eb4786b7d464964d689d7b",
       "version_major": 2,
       "version_minor": 0
      },
      "text/plain": [
       "Downloading (…)3bbb8001fa/vocab.txt:   0%|          | 0.00/232k [00:00<?, ?B/s]"
      ]
     },
     "metadata": {},
     "output_type": "display_data"
    },
    {
     "data": {
      "application/vnd.jupyter.widget-view+json": {
       "model_id": "6078f560f09b4cfe8b065c8c5884a30d",
       "version_major": 2,
       "version_minor": 0
      },
      "text/plain": [
       "Downloading (…)b8001fa/modules.json:   0%|          | 0.00/229 [00:00<?, ?B/s]"
      ]
     },
     "metadata": {},
     "output_type": "display_data"
    }
   ],
   "source": [
    "from sentence_transformers import SentenceTransformer\n",
    "model = SentenceTransformer('paraphrase-MiniLM-L6-v2')\n",
    "\n",
    "#Sentences we want to encode. Example:\n",
    "sentence = ['This framework generates embeddings for each input sentence']\n",
    "\n",
    "\n",
    "#Sentences are encoded by calling model.encode()\n",
    "embedding = model.encode(sentence)"
   ]
  },
  {
   "cell_type": "code",
   "execution_count": 64,
   "id": "90174f74-2114-473e-91f9-cd28310985c7",
   "metadata": {},
   "outputs": [
    {
     "data": {
      "text/plain": [
       "array([[-1.76214635e-01,  1.20601617e-01, -2.93623835e-01,\n",
       "        -2.29858190e-01, -8.22924525e-02,  2.37709492e-01,\n",
       "         3.39985102e-01, -7.80964196e-01,  1.18127421e-01,\n",
       "         1.63373962e-01, -1.37715340e-01,  2.40282446e-01,\n",
       "         4.25125599e-01,  1.72417745e-01,  1.05279610e-01,\n",
       "         5.18163800e-01,  6.22219667e-02,  3.99285674e-01,\n",
       "        -1.81652308e-01, -5.85578680e-01,  4.49720994e-02,\n",
       "        -1.72750369e-01, -2.68443286e-01, -1.47386059e-01,\n",
       "        -1.89218178e-01,  1.92150682e-01, -3.83842438e-01,\n",
       "        -3.96006852e-01,  4.30648863e-01, -3.15319896e-01,\n",
       "         3.65949750e-01,  6.05159365e-02,  3.57325763e-01,\n",
       "         1.59736454e-01, -3.00983906e-01,  2.63250232e-01,\n",
       "        -3.94311249e-01,  1.84855595e-01, -3.99549127e-01,\n",
       "        -2.67889768e-01, -5.45117021e-01, -3.13405395e-02,\n",
       "        -4.30644155e-01,  1.33278519e-01, -1.74793988e-01,\n",
       "        -4.35465634e-01, -4.77379203e-01,  7.12555274e-02,\n",
       "        -7.37001449e-02,  5.69136977e-01, -2.82579780e-01,\n",
       "         5.24973497e-02, -8.20007861e-01,  1.98296949e-01,\n",
       "         1.69512019e-01,  2.71779954e-01,  2.64610946e-01,\n",
       "        -2.55737714e-02, -1.74096346e-01,  1.63314015e-01,\n",
       "        -3.95260960e-01, -3.17558907e-02, -2.62555808e-01,\n",
       "         3.52754593e-01,  3.01434934e-01, -1.47197396e-01,\n",
       "         2.10075587e-01, -1.84010372e-01, -4.12895977e-01,\n",
       "         4.14775640e-01, -1.89769566e-01, -1.35482416e-01,\n",
       "        -3.79272401e-01, -4.68021072e-02, -3.33600603e-02,\n",
       "         9.00392607e-02, -3.30133170e-01, -3.87316681e-02,\n",
       "         3.75082225e-01, -1.46996349e-01,  4.34959739e-01,\n",
       "         5.38325846e-01, -2.65445381e-01,  1.64445907e-01,\n",
       "         4.17078435e-01, -4.72508855e-02, -7.48730972e-02,\n",
       "        -4.26260829e-01, -1.96994483e-01,  6.10317327e-02,\n",
       "        -4.74262685e-01, -6.48334622e-01,  3.71462524e-01,\n",
       "         2.50956744e-01,  1.22529633e-01,  8.88769105e-02,\n",
       "        -1.06724426e-01,  5.33983186e-02,  9.74506065e-02,\n",
       "        -3.46658751e-02, -1.02882624e-01,  2.32288927e-01,\n",
       "        -2.53739834e-01, -5.13112009e-01,  1.85216188e-01,\n",
       "        -3.04357678e-01, -3.55210379e-02, -1.26975238e-01,\n",
       "        -7.71632493e-02, -5.15330076e-01, -2.28072032e-01,\n",
       "         2.03344561e-02,  7.38175809e-02, -1.52558357e-01,\n",
       "        -4.00837600e-01, -2.47749224e-01,  3.97470266e-01,\n",
       "        -2.60260552e-01,  2.50906318e-01,  1.68229192e-01,\n",
       "         1.33900493e-01, -2.10834350e-02, -4.70035344e-01,\n",
       "         4.78850216e-01,  2.80345470e-01, -4.64546800e-01,\n",
       "         3.21747005e-01,  2.34207332e-01,  2.45772392e-01,\n",
       "        -4.71482247e-01,  5.00401258e-01,  4.10190105e-01,\n",
       "         5.15216768e-01,  2.62549341e-01,  2.11593732e-02,\n",
       "        -3.89687330e-01, -2.41742700e-01, -2.14834377e-01,\n",
       "        -8.62650201e-02, -1.65323287e-01, -5.21894619e-02,\n",
       "         3.41874748e-01,  4.50314343e-01, -3.06973398e-01,\n",
       "        -2.02294275e-01,  6.85521781e-01, -5.33892393e-01,\n",
       "         3.58471662e-01,  1.45286649e-01, -7.07056597e-02,\n",
       "        -1.50529072e-01, -8.56280401e-02, -7.67849013e-02,\n",
       "         1.89545006e-01, -1.04067601e-01,  5.33543944e-01,\n",
       "        -5.27887106e-01,  2.42331997e-02, -2.64347911e-01,\n",
       "        -2.23186567e-01, -3.81208748e-01,  7.59914517e-02,\n",
       "        -4.64484721e-01, -3.36549312e-01,  4.21229571e-01,\n",
       "         1.07479185e-01,  1.90457657e-01,  2.89505720e-03,\n",
       "        -1.08513713e-01,  1.53545231e-01,  3.16023678e-01,\n",
       "        -2.70837266e-02, -5.40594518e-01,  8.97289813e-02,\n",
       "        -1.15549594e-01,  3.97803903e-01, -4.97683078e-01,\n",
       "        -2.84893304e-01,  4.99861874e-02,  3.61279517e-01,\n",
       "         6.90535486e-01,  1.46821469e-01,  1.73396438e-01,\n",
       "        -1.74582422e-01, -3.15702587e-01,  6.72999248e-02,\n",
       "         2.17250049e-01,  9.78535935e-02, -1.29472673e-01,\n",
       "        -1.86929494e-01,  1.34878039e-01, -1.53885067e-01,\n",
       "         7.44717866e-02, -1.85536399e-01, -2.80628324e-01,\n",
       "        -1.14144251e-01,  4.12249774e-01,  6.39494210e-02,\n",
       "        -1.45715222e-01, -9.82061550e-02, -1.33081764e-01,\n",
       "        -1.88410491e-01, -2.84841061e-02, -3.49510759e-02,\n",
       "         3.34259011e-02,  6.98896945e-02,  1.90354362e-01,\n",
       "        -2.96723843e-01,  2.64717988e-03,  1.09140888e-01,\n",
       "         1.70894843e-02,  2.60589331e-01,  3.29038560e-01,\n",
       "        -6.61559179e-02,  2.39665613e-01, -2.26194769e-01,\n",
       "        -3.36868688e-02,  1.49400294e-01, -3.21265578e-01,\n",
       "        -2.68577963e-01,  5.72631717e-01, -4.92308468e-01,\n",
       "         2.00666487e-01, -3.49261642e-01, -2.89886277e-02,\n",
       "         6.09010458e-01, -5.72333157e-01,  2.35000357e-01,\n",
       "         6.47183321e-03, -3.14952061e-02,  2.78106239e-02,\n",
       "        -3.90340775e-01, -2.08949968e-01, -3.04452688e-01,\n",
       "        -7.20197260e-02, -8.29839706e-02,  3.73793006e-01,\n",
       "         7.38936514e-02, -2.21073665e-02,  9.88141820e-02,\n",
       "        -1.51426926e-01, -1.40431300e-01,  2.26018026e-01,\n",
       "         2.76090115e-01, -8.87750834e-02, -1.12816028e-01,\n",
       "        -2.66286254e-01,  2.77834475e-01, -4.75612506e-02,\n",
       "         6.71004951e-02, -2.78582796e-02, -2.39991844e-02,\n",
       "         2.51708597e-01,  4.68793929e-01, -5.39325476e-01,\n",
       "         1.10598452e-01, -3.44947278e-01,  4.15990174e-01,\n",
       "         7.28483647e-02, -3.19647580e-01,  4.90374267e-01,\n",
       "        -7.30342604e-03, -2.64248764e-03,  9.63711083e-01,\n",
       "         3.23884994e-01, -7.79619589e-02, -2.37589180e-01,\n",
       "         2.34038368e-01, -3.16054195e-01, -1.65654032e-03,\n",
       "        -1.09070647e+00,  3.38409126e-01,  4.70605120e-02,\n",
       "         1.07435666e-01, -2.06672356e-01,  4.26436262e-03,\n",
       "        -1.38440158e-03, -5.31455457e-01, -2.75648415e-01,\n",
       "        -1.64648697e-01, -3.42916518e-01, -4.26118702e-01,\n",
       "         6.01811826e-01,  4.55971748e-01, -2.72701681e-01,\n",
       "        -3.45805548e-02,  2.62752503e-01, -6.34176470e-03,\n",
       "         2.79630989e-01, -2.53559023e-01, -1.68626562e-01,\n",
       "         3.82933915e-02,  2.07763031e-01, -4.31525975e-01,\n",
       "        -7.23999888e-02, -1.26854509e-01,  2.07031090e-02,\n",
       "         5.74441373e-01,  3.54672432e-01,  9.28302929e-02,\n",
       "         6.70506582e-02,  1.11520611e-01, -1.86509304e-02,\n",
       "         4.62352127e-01,  2.72504747e-01, -3.60473812e-01,\n",
       "         5.29415488e-01, -1.00322464e-03, -8.81360918e-02,\n",
       "         1.49975479e-01,  5.25862649e-02,  4.63517874e-01,\n",
       "        -3.96831453e-01,  2.42640674e-01, -2.08912387e-01,\n",
       "         3.65672082e-01, -4.73761786e-04,  5.33963263e-01,\n",
       "        -1.97879642e-01,  3.11583042e-01, -6.96714938e-01,\n",
       "        -4.29500610e-01, -4.49359477e-01, -2.71368641e-02,\n",
       "        -6.98711872e-02,  2.06174627e-01, -1.57107800e-01,\n",
       "         4.43520904e-01, -6.74267262e-02, -3.00923944e-01,\n",
       "         5.14859498e-01,  3.36029530e-01,  6.63376451e-02,\n",
       "        -1.15235478e-01, -2.95980014e-02,  2.79471874e-01,\n",
       "        -3.48200575e-02, -7.29322508e-02, -4.58473489e-02,\n",
       "         1.54262692e-01,  8.09356391e-01,  5.20327985e-01,\n",
       "        -4.02114838e-01, -3.23154330e-02, -1.10364124e-01,\n",
       "         7.50504434e-02, -1.51098296e-01,  8.45740080e-01,\n",
       "        -1.80844039e-01,  3.22573483e-01,  1.04708143e-01,\n",
       "         3.19663495e-01, -1.55085415e-01,  1.69236690e-01,\n",
       "        -2.56996453e-01,  2.01208889e-01,  1.77393124e-01,\n",
       "        -2.74333298e-01, -3.36944133e-01,  5.02356827e-01,\n",
       "        -1.18357435e-01, -2.01167122e-01, -5.36485732e-01,\n",
       "        -7.69810155e-02,  1.15380520e-02, -2.36464351e-01,\n",
       "        -2.98771560e-02,  1.31366551e-01,  2.94184446e-01,\n",
       "         9.90916416e-02, -5.43897986e-01,  1.40812978e-01,\n",
       "         3.66998702e-01,  5.04862666e-02,  1.99122593e-01,\n",
       "        -2.80674428e-01,  4.34192330e-01, -1.40274987e-01,\n",
       "         5.78048587e-01,  1.77715525e-01,  8.98363441e-02,\n",
       "         3.29651862e-01,  6.13007285e-02, -3.24933529e-01]], dtype=float32)"
      ]
     },
     "execution_count": 64,
     "metadata": {},
     "output_type": "execute_result"
    }
   ],
   "source": [
    "embedding"
   ]
  },
  {
   "cell_type": "code",
   "execution_count": null,
   "id": "716785c7-81ce-42d5-bca4-2003e5ac2ddd",
   "metadata": {},
   "outputs": [],
   "source": []
  }
 ],
 "metadata": {
  "kernelspec": {
   "display_name": "Python3 (GPT)",
   "language": "python",
   "name": "gpt"
  },
  "language_info": {
   "codemirror_mode": {
    "name": "ipython",
    "version": 3
   },
   "file_extension": ".py",
   "mimetype": "text/x-python",
   "name": "python",
   "nbconvert_exporter": "python",
   "pygments_lexer": "ipython3",
   "version": "3.10.11"
  }
 },
 "nbformat": 4,
 "nbformat_minor": 5
}
