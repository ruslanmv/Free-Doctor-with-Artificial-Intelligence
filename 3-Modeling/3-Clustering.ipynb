{
 "cells": [
  {
   "attachments": {},
   "cell_type": "markdown",
   "metadata": {},
   "source": [
    "## Clustering\n",
    "\n",
    "We use a simple k-means algorithm to demonstrate how clustering can be done. Clustering can help discover valuable, hidden groupings within the data. The dataset is created in the [Obtain_dataset Notebook](Obtain_dataset.ipynb)."
   ]
  },
  {
   "cell_type": "code",
   "execution_count": 217,
   "metadata": {},
   "outputs": [],
   "source": [
    "# imports\n",
    "import numpy as np\n",
    "import pandas as pd\n",
    "from ast import literal_eval\n",
    "# load data\n",
    "datafile_path = \"../2-Data/dialogues_embededd.pkl\"\n",
    "df = pd.read_pickle(datafile_path)"
   ]
  },
  {
   "cell_type": "code",
   "execution_count": 218,
   "metadata": {},
   "outputs": [
    {
     "data": {
      "text/html": [
       "<div>\n",
       "<style scoped>\n",
       "    .dataframe tbody tr th:only-of-type {\n",
       "        vertical-align: middle;\n",
       "    }\n",
       "\n",
       "    .dataframe tbody tr th {\n",
       "        vertical-align: top;\n",
       "    }\n",
       "\n",
       "    .dataframe thead th {\n",
       "        text-align: right;\n",
       "    }\n",
       "</style>\n",
       "<table border=\"1\" class=\"dataframe\">\n",
       "  <thead>\n",
       "    <tr style=\"text-align: right;\">\n",
       "      <th></th>\n",
       "      <th>Description</th>\n",
       "      <th>Patient</th>\n",
       "      <th>Doctor</th>\n",
       "      <th>combined</th>\n",
       "      <th>n_tokens</th>\n",
       "      <th>embedding</th>\n",
       "    </tr>\n",
       "  </thead>\n",
       "  <tbody>\n",
       "    <tr>\n",
       "      <th>0</th>\n",
       "      <td>Q. What does abutment of the nerve root mean?</td>\n",
       "      <td>Hi doctor,I am just wondering what is abutting...</td>\n",
       "      <td>Hi. I have gone through your query with dilige...</td>\n",
       "      <td>Description: Q. What does abutment of the nerv...</td>\n",
       "      <td>95</td>\n",
       "      <td>[-0.109211065, -0.17469415, 0.18996556, 0.0599...</td>\n",
       "    </tr>\n",
       "    <tr>\n",
       "      <th>1</th>\n",
       "      <td>Q. What should I do to reduce my weight gained...</td>\n",
       "      <td>Hi doctor, I am a 22-year-old female who was d...</td>\n",
       "      <td>Hi. You have really done well with the hypothy...</td>\n",
       "      <td>Description: Q. What should I do to reduce my ...</td>\n",
       "      <td>519</td>\n",
       "      <td>[-0.014065318, 0.0440334, 0.26095688, 0.086799...</td>\n",
       "    </tr>\n",
       "    <tr>\n",
       "      <th>2</th>\n",
       "      <td>Q. I have started to get lots of acne on my fa...</td>\n",
       "      <td>Hi doctor! I used to have clear skin but since...</td>\n",
       "      <td>Hi there Acne has multifactorial etiology. Onl...</td>\n",
       "      <td>Description: Q. I have started to get lots of ...</td>\n",
       "      <td>285</td>\n",
       "      <td>[-0.39175138, -0.025890486, -0.024644196, -0.0...</td>\n",
       "    </tr>\n",
       "    <tr>\n",
       "      <th>3</th>\n",
       "      <td>Q. Why do I have uncomfortable feeling between...</td>\n",
       "      <td>Hello doctor,I am having an uncomfortable feel...</td>\n",
       "      <td>Hello. The popping and discomfort what you fel...</td>\n",
       "      <td>Description: Q. Why do I have uncomfortable fe...</td>\n",
       "      <td>324</td>\n",
       "      <td>[-0.29406005, -0.31878802, 0.27588362, 0.09649...</td>\n",
       "    </tr>\n",
       "    <tr>\n",
       "      <th>4</th>\n",
       "      <td>Q. My symptoms after intercourse threatns me e...</td>\n",
       "      <td>Hello doctor,Before two years had sex with a c...</td>\n",
       "      <td>Hello. The HIV test uses a finger prick blood ...</td>\n",
       "      <td>Description: Q. My symptoms after intercourse ...</td>\n",
       "      <td>442</td>\n",
       "      <td>[-0.36187398, 0.18491694, -0.3090741, -0.30197...</td>\n",
       "    </tr>\n",
       "    <tr>\n",
       "      <th>...</th>\n",
       "      <td>...</td>\n",
       "      <td>...</td>\n",
       "      <td>...</td>\n",
       "      <td>...</td>\n",
       "      <td>...</td>\n",
       "      <td>...</td>\n",
       "    </tr>\n",
       "    <tr>\n",
       "      <th>995</th>\n",
       "      <td>Q. My lax les is 38 cm with inflamed gastric f...</td>\n",
       "      <td>Hello doctor, My lax les is 38 cm with inflame...</td>\n",
       "      <td>Hello. Gastritis is an inflammation of stomach...</td>\n",
       "      <td>Description: Q. My lax les is 38 cm with infla...</td>\n",
       "      <td>214</td>\n",
       "      <td>[-0.1555396, -0.44157797, -0.15364785, 0.25760...</td>\n",
       "    </tr>\n",
       "    <tr>\n",
       "      <th>996</th>\n",
       "      <td>Q. I am suffering from mood swings. Kindly adv...</td>\n",
       "      <td>Hello doctor,I want to get some information re...</td>\n",
       "      <td>Hello. Let me answer your questions via some b...</td>\n",
       "      <td>Description: Q. I am suffering from mood swing...</td>\n",
       "      <td>491</td>\n",
       "      <td>[-0.2296337, 0.119730674, 0.37153018, 0.062901...</td>\n",
       "    </tr>\n",
       "    <tr>\n",
       "      <th>997</th>\n",
       "      <td>Q. I am having swollen lymph node in my neck. ...</td>\n",
       "      <td>Hello doctor, I went to the chiropractor and g...</td>\n",
       "      <td>Hello. I do not think that because of chiropra...</td>\n",
       "      <td>Description: Q. I am having swollen lymph node...</td>\n",
       "      <td>395</td>\n",
       "      <td>[-0.10149522, -0.33532476, 0.40812746, -0.2713...</td>\n",
       "    </tr>\n",
       "    <tr>\n",
       "      <th>998</th>\n",
       "      <td>Q. How good is Albenza for a raccoon roundworm...</td>\n",
       "      <td>Hello doctor,I am concerned about a possible r...</td>\n",
       "      <td>Hello. Albendazole 400 mg single star dose is ...</td>\n",
       "      <td>Description: Q. How good is Albenza for a racc...</td>\n",
       "      <td>240</td>\n",
       "      <td>[-0.06408733, 0.17669381, 0.09132431, -0.09456...</td>\n",
       "    </tr>\n",
       "    <tr>\n",
       "      <th>999</th>\n",
       "      <td>Q. Will Kalarchikai cure multiple ovarian cyst...</td>\n",
       "      <td>Hello doctor, I have multiple small cysts in b...</td>\n",
       "      <td>Hello. I just read your query. See Kalarachi K...</td>\n",
       "      <td>Description: Q. Will Kalarchikai cure multiple...</td>\n",
       "      <td>309</td>\n",
       "      <td>[0.03657364, 0.24297515, 0.09555141, 0.0270566...</td>\n",
       "    </tr>\n",
       "  </tbody>\n",
       "</table>\n",
       "<p>1000 rows × 6 columns</p>\n",
       "</div>"
      ],
      "text/plain": [
       "                                           Description  \\\n",
       "0        Q. What does abutment of the nerve root mean?   \n",
       "1    Q. What should I do to reduce my weight gained...   \n",
       "2    Q. I have started to get lots of acne on my fa...   \n",
       "3    Q. Why do I have uncomfortable feeling between...   \n",
       "4    Q. My symptoms after intercourse threatns me e...   \n",
       "..                                                 ...   \n",
       "995  Q. My lax les is 38 cm with inflamed gastric f...   \n",
       "996  Q. I am suffering from mood swings. Kindly adv...   \n",
       "997  Q. I am having swollen lymph node in my neck. ...   \n",
       "998  Q. How good is Albenza for a raccoon roundworm...   \n",
       "999  Q. Will Kalarchikai cure multiple ovarian cyst...   \n",
       "\n",
       "                                               Patient  \\\n",
       "0    Hi doctor,I am just wondering what is abutting...   \n",
       "1    Hi doctor, I am a 22-year-old female who was d...   \n",
       "2    Hi doctor! I used to have clear skin but since...   \n",
       "3    Hello doctor,I am having an uncomfortable feel...   \n",
       "4    Hello doctor,Before two years had sex with a c...   \n",
       "..                                                 ...   \n",
       "995  Hello doctor, My lax les is 38 cm with inflame...   \n",
       "996  Hello doctor,I want to get some information re...   \n",
       "997  Hello doctor, I went to the chiropractor and g...   \n",
       "998  Hello doctor,I am concerned about a possible r...   \n",
       "999  Hello doctor, I have multiple small cysts in b...   \n",
       "\n",
       "                                                Doctor  \\\n",
       "0    Hi. I have gone through your query with dilige...   \n",
       "1    Hi. You have really done well with the hypothy...   \n",
       "2    Hi there Acne has multifactorial etiology. Onl...   \n",
       "3    Hello. The popping and discomfort what you fel...   \n",
       "4    Hello. The HIV test uses a finger prick blood ...   \n",
       "..                                                 ...   \n",
       "995  Hello. Gastritis is an inflammation of stomach...   \n",
       "996  Hello. Let me answer your questions via some b...   \n",
       "997  Hello. I do not think that because of chiropra...   \n",
       "998  Hello. Albendazole 400 mg single star dose is ...   \n",
       "999  Hello. I just read your query. See Kalarachi K...   \n",
       "\n",
       "                                              combined  n_tokens  \\\n",
       "0    Description: Q. What does abutment of the nerv...        95   \n",
       "1    Description: Q. What should I do to reduce my ...       519   \n",
       "2    Description: Q. I have started to get lots of ...       285   \n",
       "3    Description: Q. Why do I have uncomfortable fe...       324   \n",
       "4    Description: Q. My symptoms after intercourse ...       442   \n",
       "..                                                 ...       ...   \n",
       "995  Description: Q. My lax les is 38 cm with infla...       214   \n",
       "996  Description: Q. I am suffering from mood swing...       491   \n",
       "997  Description: Q. I am having swollen lymph node...       395   \n",
       "998  Description: Q. How good is Albenza for a racc...       240   \n",
       "999  Description: Q. Will Kalarchikai cure multiple...       309   \n",
       "\n",
       "                                             embedding  \n",
       "0    [-0.109211065, -0.17469415, 0.18996556, 0.0599...  \n",
       "1    [-0.014065318, 0.0440334, 0.26095688, 0.086799...  \n",
       "2    [-0.39175138, -0.025890486, -0.024644196, -0.0...  \n",
       "3    [-0.29406005, -0.31878802, 0.27588362, 0.09649...  \n",
       "4    [-0.36187398, 0.18491694, -0.3090741, -0.30197...  \n",
       "..                                                 ...  \n",
       "995  [-0.1555396, -0.44157797, -0.15364785, 0.25760...  \n",
       "996  [-0.2296337, 0.119730674, 0.37153018, 0.062901...  \n",
       "997  [-0.10149522, -0.33532476, 0.40812746, -0.2713...  \n",
       "998  [-0.06408733, 0.17669381, 0.09132431, -0.09456...  \n",
       "999  [0.03657364, 0.24297515, 0.09555141, 0.0270566...  \n",
       "\n",
       "[1000 rows x 6 columns]"
      ]
     },
     "execution_count": 218,
     "metadata": {},
     "output_type": "execute_result"
    }
   ],
   "source": [
    "df"
   ]
  },
  {
   "cell_type": "code",
   "execution_count": 263,
   "metadata": {},
   "outputs": [
    {
     "data": {
      "text/plain": [
       "(1000, 384)"
      ]
     },
     "execution_count": 263,
     "metadata": {},
     "output_type": "execute_result"
    }
   ],
   "source": [
    "df[\"embedding\"] = df.embedding.apply(np.array)  # convert string to numpy array\n",
    "matrix = np.vstack(df.embedding.values)\n",
    "matrix.shape\n"
   ]
  },
  {
   "cell_type": "code",
   "execution_count": 264,
   "metadata": {},
   "outputs": [],
   "source": [
    "\n",
    "#df[\"embedding_doctor\"] = df.embedding_doctor.apply(np.array)  # convert string to numpy array\n",
    "#matrix = np.vstack(df.embedding_doctor.values)\n",
    "#matrix.shape\n"
   ]
  },
  {
   "cell_type": "code",
   "execution_count": 265,
   "metadata": {},
   "outputs": [
    {
     "data": {
      "text/html": [
       "<div>\n",
       "<style scoped>\n",
       "    .dataframe tbody tr th:only-of-type {\n",
       "        vertical-align: middle;\n",
       "    }\n",
       "\n",
       "    .dataframe tbody tr th {\n",
       "        vertical-align: top;\n",
       "    }\n",
       "\n",
       "    .dataframe thead th {\n",
       "        text-align: right;\n",
       "    }\n",
       "</style>\n",
       "<table border=\"1\" class=\"dataframe\">\n",
       "  <thead>\n",
       "    <tr style=\"text-align: right;\">\n",
       "      <th></th>\n",
       "      <th>Description</th>\n",
       "      <th>Patient</th>\n",
       "      <th>Doctor</th>\n",
       "      <th>combined</th>\n",
       "      <th>n_tokens</th>\n",
       "      <th>embedding</th>\n",
       "    </tr>\n",
       "  </thead>\n",
       "  <tbody>\n",
       "    <tr>\n",
       "      <th>0</th>\n",
       "      <td>Q. What does abutment of the nerve root mean?</td>\n",
       "      <td>Hi doctor,I am just wondering what is abutting...</td>\n",
       "      <td>Hi. I have gone through your query with dilige...</td>\n",
       "      <td>Description: Q. What does abutment of the nerv...</td>\n",
       "      <td>95</td>\n",
       "      <td>[-0.109211065, -0.17469415, 0.18996556, 0.0599...</td>\n",
       "    </tr>\n",
       "    <tr>\n",
       "      <th>1</th>\n",
       "      <td>Q. What should I do to reduce my weight gained...</td>\n",
       "      <td>Hi doctor, I am a 22-year-old female who was d...</td>\n",
       "      <td>Hi. You have really done well with the hypothy...</td>\n",
       "      <td>Description: Q. What should I do to reduce my ...</td>\n",
       "      <td>519</td>\n",
       "      <td>[-0.014065318, 0.0440334, 0.26095688, 0.086799...</td>\n",
       "    </tr>\n",
       "    <tr>\n",
       "      <th>2</th>\n",
       "      <td>Q. I have started to get lots of acne on my fa...</td>\n",
       "      <td>Hi doctor! I used to have clear skin but since...</td>\n",
       "      <td>Hi there Acne has multifactorial etiology. Onl...</td>\n",
       "      <td>Description: Q. I have started to get lots of ...</td>\n",
       "      <td>285</td>\n",
       "      <td>[-0.39175138, -0.025890486, -0.024644196, -0.0...</td>\n",
       "    </tr>\n",
       "    <tr>\n",
       "      <th>3</th>\n",
       "      <td>Q. Why do I have uncomfortable feeling between...</td>\n",
       "      <td>Hello doctor,I am having an uncomfortable feel...</td>\n",
       "      <td>Hello. The popping and discomfort what you fel...</td>\n",
       "      <td>Description: Q. Why do I have uncomfortable fe...</td>\n",
       "      <td>324</td>\n",
       "      <td>[-0.29406005, -0.31878802, 0.27588362, 0.09649...</td>\n",
       "    </tr>\n",
       "    <tr>\n",
       "      <th>4</th>\n",
       "      <td>Q. My symptoms after intercourse threatns me e...</td>\n",
       "      <td>Hello doctor,Before two years had sex with a c...</td>\n",
       "      <td>Hello. The HIV test uses a finger prick blood ...</td>\n",
       "      <td>Description: Q. My symptoms after intercourse ...</td>\n",
       "      <td>442</td>\n",
       "      <td>[-0.36187398, 0.18491694, -0.3090741, -0.30197...</td>\n",
       "    </tr>\n",
       "    <tr>\n",
       "      <th>...</th>\n",
       "      <td>...</td>\n",
       "      <td>...</td>\n",
       "      <td>...</td>\n",
       "      <td>...</td>\n",
       "      <td>...</td>\n",
       "      <td>...</td>\n",
       "    </tr>\n",
       "    <tr>\n",
       "      <th>995</th>\n",
       "      <td>Q. My lax les is 38 cm with inflamed gastric f...</td>\n",
       "      <td>Hello doctor, My lax les is 38 cm with inflame...</td>\n",
       "      <td>Hello. Gastritis is an inflammation of stomach...</td>\n",
       "      <td>Description: Q. My lax les is 38 cm with infla...</td>\n",
       "      <td>214</td>\n",
       "      <td>[-0.1555396, -0.44157797, -0.15364785, 0.25760...</td>\n",
       "    </tr>\n",
       "    <tr>\n",
       "      <th>996</th>\n",
       "      <td>Q. I am suffering from mood swings. Kindly adv...</td>\n",
       "      <td>Hello doctor,I want to get some information re...</td>\n",
       "      <td>Hello. Let me answer your questions via some b...</td>\n",
       "      <td>Description: Q. I am suffering from mood swing...</td>\n",
       "      <td>491</td>\n",
       "      <td>[-0.2296337, 0.119730674, 0.37153018, 0.062901...</td>\n",
       "    </tr>\n",
       "    <tr>\n",
       "      <th>997</th>\n",
       "      <td>Q. I am having swollen lymph node in my neck. ...</td>\n",
       "      <td>Hello doctor, I went to the chiropractor and g...</td>\n",
       "      <td>Hello. I do not think that because of chiropra...</td>\n",
       "      <td>Description: Q. I am having swollen lymph node...</td>\n",
       "      <td>395</td>\n",
       "      <td>[-0.10149522, -0.33532476, 0.40812746, -0.2713...</td>\n",
       "    </tr>\n",
       "    <tr>\n",
       "      <th>998</th>\n",
       "      <td>Q. How good is Albenza for a raccoon roundworm...</td>\n",
       "      <td>Hello doctor,I am concerned about a possible r...</td>\n",
       "      <td>Hello. Albendazole 400 mg single star dose is ...</td>\n",
       "      <td>Description: Q. How good is Albenza for a racc...</td>\n",
       "      <td>240</td>\n",
       "      <td>[-0.06408733, 0.17669381, 0.09132431, -0.09456...</td>\n",
       "    </tr>\n",
       "    <tr>\n",
       "      <th>999</th>\n",
       "      <td>Q. Will Kalarchikai cure multiple ovarian cyst...</td>\n",
       "      <td>Hello doctor, I have multiple small cysts in b...</td>\n",
       "      <td>Hello. I just read your query. See Kalarachi K...</td>\n",
       "      <td>Description: Q. Will Kalarchikai cure multiple...</td>\n",
       "      <td>309</td>\n",
       "      <td>[0.03657364, 0.24297515, 0.09555141, 0.0270566...</td>\n",
       "    </tr>\n",
       "  </tbody>\n",
       "</table>\n",
       "<p>1000 rows × 6 columns</p>\n",
       "</div>"
      ],
      "text/plain": [
       "                                           Description  \\\n",
       "0        Q. What does abutment of the nerve root mean?   \n",
       "1    Q. What should I do to reduce my weight gained...   \n",
       "2    Q. I have started to get lots of acne on my fa...   \n",
       "3    Q. Why do I have uncomfortable feeling between...   \n",
       "4    Q. My symptoms after intercourse threatns me e...   \n",
       "..                                                 ...   \n",
       "995  Q. My lax les is 38 cm with inflamed gastric f...   \n",
       "996  Q. I am suffering from mood swings. Kindly adv...   \n",
       "997  Q. I am having swollen lymph node in my neck. ...   \n",
       "998  Q. How good is Albenza for a raccoon roundworm...   \n",
       "999  Q. Will Kalarchikai cure multiple ovarian cyst...   \n",
       "\n",
       "                                               Patient  \\\n",
       "0    Hi doctor,I am just wondering what is abutting...   \n",
       "1    Hi doctor, I am a 22-year-old female who was d...   \n",
       "2    Hi doctor! I used to have clear skin but since...   \n",
       "3    Hello doctor,I am having an uncomfortable feel...   \n",
       "4    Hello doctor,Before two years had sex with a c...   \n",
       "..                                                 ...   \n",
       "995  Hello doctor, My lax les is 38 cm with inflame...   \n",
       "996  Hello doctor,I want to get some information re...   \n",
       "997  Hello doctor, I went to the chiropractor and g...   \n",
       "998  Hello doctor,I am concerned about a possible r...   \n",
       "999  Hello doctor, I have multiple small cysts in b...   \n",
       "\n",
       "                                                Doctor  \\\n",
       "0    Hi. I have gone through your query with dilige...   \n",
       "1    Hi. You have really done well with the hypothy...   \n",
       "2    Hi there Acne has multifactorial etiology. Onl...   \n",
       "3    Hello. The popping and discomfort what you fel...   \n",
       "4    Hello. The HIV test uses a finger prick blood ...   \n",
       "..                                                 ...   \n",
       "995  Hello. Gastritis is an inflammation of stomach...   \n",
       "996  Hello. Let me answer your questions via some b...   \n",
       "997  Hello. I do not think that because of chiropra...   \n",
       "998  Hello. Albendazole 400 mg single star dose is ...   \n",
       "999  Hello. I just read your query. See Kalarachi K...   \n",
       "\n",
       "                                              combined  n_tokens  \\\n",
       "0    Description: Q. What does abutment of the nerv...        95   \n",
       "1    Description: Q. What should I do to reduce my ...       519   \n",
       "2    Description: Q. I have started to get lots of ...       285   \n",
       "3    Description: Q. Why do I have uncomfortable fe...       324   \n",
       "4    Description: Q. My symptoms after intercourse ...       442   \n",
       "..                                                 ...       ...   \n",
       "995  Description: Q. My lax les is 38 cm with infla...       214   \n",
       "996  Description: Q. I am suffering from mood swing...       491   \n",
       "997  Description: Q. I am having swollen lymph node...       395   \n",
       "998  Description: Q. How good is Albenza for a racc...       240   \n",
       "999  Description: Q. Will Kalarchikai cure multiple...       309   \n",
       "\n",
       "                                             embedding  \n",
       "0    [-0.109211065, -0.17469415, 0.18996556, 0.0599...  \n",
       "1    [-0.014065318, 0.0440334, 0.26095688, 0.086799...  \n",
       "2    [-0.39175138, -0.025890486, -0.024644196, -0.0...  \n",
       "3    [-0.29406005, -0.31878802, 0.27588362, 0.09649...  \n",
       "4    [-0.36187398, 0.18491694, -0.3090741, -0.30197...  \n",
       "..                                                 ...  \n",
       "995  [-0.1555396, -0.44157797, -0.15364785, 0.25760...  \n",
       "996  [-0.2296337, 0.119730674, 0.37153018, 0.062901...  \n",
       "997  [-0.10149522, -0.33532476, 0.40812746, -0.2713...  \n",
       "998  [-0.06408733, 0.17669381, 0.09132431, -0.09456...  \n",
       "999  [0.03657364, 0.24297515, 0.09555141, 0.0270566...  \n",
       "\n",
       "[1000 rows x 6 columns]"
      ]
     },
     "execution_count": 265,
     "metadata": {},
     "output_type": "execute_result"
    }
   ],
   "source": [
    "df"
   ]
  },
  {
   "cell_type": "markdown",
   "metadata": {},
   "source": [
    "\n",
    "## 1. Find the number of clusters"
   ]
  },
  {
   "cell_type": "code",
   "execution_count": 266,
   "metadata": {},
   "outputs": [],
   "source": [
    "import numpy as np\n",
    "import matplotlib.pyplot as plt\n",
    "import pandas as pd \n",
    "import sklearn"
   ]
  },
  {
   "cell_type": "code",
   "execution_count": 267,
   "metadata": {},
   "outputs": [],
   "source": [
    "df[\"embedding\"] = df.embedding.apply(np.array)  # convert string to numpy array"
   ]
  },
  {
   "cell_type": "code",
   "execution_count": 268,
   "metadata": {},
   "outputs": [],
   "source": [
    "X=df.iloc[:, 5].values"
   ]
  },
  {
   "cell_type": "code",
   "execution_count": 269,
   "metadata": {},
   "outputs": [],
   "source": [
    "#df.iloc[:, 5]"
   ]
  },
  {
   "cell_type": "code",
   "execution_count": 270,
   "metadata": {},
   "outputs": [],
   "source": [
    "X_input=[embed.tolist() for embed in X]"
   ]
  },
  {
   "cell_type": "code",
   "execution_count": 271,
   "metadata": {},
   "outputs": [],
   "source": [
    "#this is your array with the values\n",
    "X = np.array(X_input)"
   ]
  },
  {
   "cell_type": "code",
   "execution_count": 272,
   "metadata": {},
   "outputs": [
    {
     "data": {
      "text/plain": [
       "1000"
      ]
     },
     "execution_count": 272,
     "metadata": {},
     "output_type": "execute_result"
    }
   ],
   "source": [
    "len(X_input)"
   ]
  },
  {
   "cell_type": "code",
   "execution_count": 273,
   "metadata": {},
   "outputs": [
    {
     "data": {
      "text/plain": [
       "384"
      ]
     },
     "execution_count": 273,
     "metadata": {},
     "output_type": "execute_result"
    }
   ],
   "source": [
    "len(X_input[:2][1])"
   ]
  },
  {
   "cell_type": "code",
   "execution_count": 274,
   "metadata": {},
   "outputs": [
    {
     "data": {
      "text/plain": [
       "array([[-0.10921106, -0.17469415,  0.18996556, ...,  0.23970637,\n",
       "         0.16743004, -0.05469465],\n",
       "       [-0.01406532,  0.0440334 ,  0.26095688, ..., -0.24024209,\n",
       "        -0.437574  , -0.01724739],\n",
       "       [-0.39175138, -0.02589049, -0.0246442 , ..., -0.23134355,\n",
       "        -0.10085639,  0.1496634 ],\n",
       "       ...,\n",
       "       [-0.10149522, -0.33532476,  0.40812746, ...,  0.1181079 ,\n",
       "         0.02715531,  0.15930209],\n",
       "       [-0.06408733,  0.17669381,  0.09132431, ..., -0.21813951,\n",
       "        -0.44568342, -0.08100373],\n",
       "       [ 0.03657364,  0.24297515,  0.09555141, ...,  0.17485163,\n",
       "         0.18589231, -0.14308901]])"
      ]
     },
     "execution_count": 274,
     "metadata": {},
     "output_type": "execute_result"
    }
   ],
   "source": [
    "X"
   ]
  },
  {
   "cell_type": "code",
   "execution_count": 277,
   "metadata": {},
   "outputs": [],
   "source": [
    "from sklearn.cluster import KMeans\n",
    "wcss = [] \n",
    "max=20\n",
    "for i in range(1, max): \n",
    "    kmeans = KMeans(n_init = i, init = 'k-means++', random_state = 42)\n",
    "    kmeans.fit(X) \n",
    "    wcss.append(kmeans.inertia_)"
   ]
  },
  {
   "cell_type": "code",
   "execution_count": 278,
   "metadata": {},
   "outputs": [
    {
     "data": {
      "image/png": "[encoded data removed]",
      "text/plain": [
       "<Figure size 640x480 with 1 Axes>"
      ]
     },
     "metadata": {},
     "output_type": "display_data"
    }
   ],
   "source": [
    "plt.plot(range(1, max), wcss)\n",
    "plt.xlabel('Number of clusters')\n",
    "plt.ylabel('WCSS') \n",
    "plt.show()"
   ]
  },
  {
   "cell_type": "code",
   "execution_count": null,
   "metadata": {},
   "outputs": [],
   "source": []
  },
  {
   "attachments": {},
   "cell_type": "markdown",
   "metadata": {},
   "source": [
    "### 1. Find the clusters using K-means"
   ]
  },
  {
   "attachments": {},
   "cell_type": "markdown",
   "metadata": {},
   "source": [
    "We show the simplest use of K-means. You can pick the number of clusters that fits your use case best."
   ]
  },
  {
   "cell_type": "code",
   "execution_count": 284,
   "metadata": {},
   "outputs": [],
   "source": [
    "from sklearn.cluster import KMeans\n",
    "n_clusters = 7\n",
    "kmeans = KMeans(n_init=n_clusters, init=\"k-means++\", random_state=42)\n",
    "kmeans.fit(matrix)\n",
    "labels = kmeans.labels_\n",
    "df[\"Cluster\"] = labels"
   ]
  },
  {
   "cell_type": "code",
   "execution_count": 285,
   "metadata": {},
   "outputs": [
    {
     "data": {
      "text/html": [
       "<div>\n",
       "<style scoped>\n",
       "    .dataframe tbody tr th:only-of-type {\n",
       "        vertical-align: middle;\n",
       "    }\n",
       "\n",
       "    .dataframe tbody tr th {\n",
       "        vertical-align: top;\n",
       "    }\n",
       "\n",
       "    .dataframe thead th {\n",
       "        text-align: right;\n",
       "    }\n",
       "</style>\n",
       "<table border=\"1\" class=\"dataframe\">\n",
       "  <thead>\n",
       "    <tr style=\"text-align: right;\">\n",
       "      <th></th>\n",
       "      <th>Description</th>\n",
       "      <th>Patient</th>\n",
       "      <th>Doctor</th>\n",
       "      <th>combined</th>\n",
       "      <th>n_tokens</th>\n",
       "      <th>embedding</th>\n",
       "      <th>Cluster</th>\n",
       "    </tr>\n",
       "  </thead>\n",
       "  <tbody>\n",
       "    <tr>\n",
       "      <th>0</th>\n",
       "      <td>Q. What does abutment of the nerve root mean?</td>\n",
       "      <td>Hi doctor,I am just wondering what is abutting...</td>\n",
       "      <td>Hi. I have gone through your query with dilige...</td>\n",
       "      <td>Description: Q. What does abutment of the nerv...</td>\n",
       "      <td>95</td>\n",
       "      <td>[-0.109211065, -0.17469415, 0.18996556, 0.0599...</td>\n",
       "      <td>7</td>\n",
       "    </tr>\n",
       "    <tr>\n",
       "      <th>1</th>\n",
       "      <td>Q. What should I do to reduce my weight gained...</td>\n",
       "      <td>Hi doctor, I am a 22-year-old female who was d...</td>\n",
       "      <td>Hi. You have really done well with the hypothy...</td>\n",
       "      <td>Description: Q. What should I do to reduce my ...</td>\n",
       "      <td>519</td>\n",
       "      <td>[-0.014065318, 0.0440334, 0.26095688, 0.086799...</td>\n",
       "      <td>4</td>\n",
       "    </tr>\n",
       "    <tr>\n",
       "      <th>2</th>\n",
       "      <td>Q. I have started to get lots of acne on my fa...</td>\n",
       "      <td>Hi doctor! I used to have clear skin but since...</td>\n",
       "      <td>Hi there Acne has multifactorial etiology. Onl...</td>\n",
       "      <td>Description: Q. I have started to get lots of ...</td>\n",
       "      <td>285</td>\n",
       "      <td>[-0.39175138, -0.025890486, -0.024644196, -0.0...</td>\n",
       "      <td>3</td>\n",
       "    </tr>\n",
       "    <tr>\n",
       "      <th>3</th>\n",
       "      <td>Q. Why do I have uncomfortable feeling between...</td>\n",
       "      <td>Hello doctor,I am having an uncomfortable feel...</td>\n",
       "      <td>Hello. The popping and discomfort what you fel...</td>\n",
       "      <td>Description: Q. Why do I have uncomfortable fe...</td>\n",
       "      <td>324</td>\n",
       "      <td>[-0.29406005, -0.31878802, 0.27588362, 0.09649...</td>\n",
       "      <td>4</td>\n",
       "    </tr>\n",
       "    <tr>\n",
       "      <th>4</th>\n",
       "      <td>Q. My symptoms after intercourse threatns me e...</td>\n",
       "      <td>Hello doctor,Before two years had sex with a c...</td>\n",
       "      <td>Hello. The HIV test uses a finger prick blood ...</td>\n",
       "      <td>Description: Q. My symptoms after intercourse ...</td>\n",
       "      <td>442</td>\n",
       "      <td>[-0.36187398, 0.18491694, -0.3090741, -0.30197...</td>\n",
       "      <td>6</td>\n",
       "    </tr>\n",
       "    <tr>\n",
       "      <th>...</th>\n",
       "      <td>...</td>\n",
       "      <td>...</td>\n",
       "      <td>...</td>\n",
       "      <td>...</td>\n",
       "      <td>...</td>\n",
       "      <td>...</td>\n",
       "      <td>...</td>\n",
       "    </tr>\n",
       "    <tr>\n",
       "      <th>995</th>\n",
       "      <td>Q. My lax les is 38 cm with inflamed gastric f...</td>\n",
       "      <td>Hello doctor, My lax les is 38 cm with inflame...</td>\n",
       "      <td>Hello. Gastritis is an inflammation of stomach...</td>\n",
       "      <td>Description: Q. My lax les is 38 cm with infla...</td>\n",
       "      <td>214</td>\n",
       "      <td>[-0.1555396, -0.44157797, -0.15364785, 0.25760...</td>\n",
       "      <td>0</td>\n",
       "    </tr>\n",
       "    <tr>\n",
       "      <th>996</th>\n",
       "      <td>Q. I am suffering from mood swings. Kindly adv...</td>\n",
       "      <td>Hello doctor,I want to get some information re...</td>\n",
       "      <td>Hello. Let me answer your questions via some b...</td>\n",
       "      <td>Description: Q. I am suffering from mood swing...</td>\n",
       "      <td>491</td>\n",
       "      <td>[-0.2296337, 0.119730674, 0.37153018, 0.062901...</td>\n",
       "      <td>4</td>\n",
       "    </tr>\n",
       "    <tr>\n",
       "      <th>997</th>\n",
       "      <td>Q. I am having swollen lymph node in my neck. ...</td>\n",
       "      <td>Hello doctor, I went to the chiropractor and g...</td>\n",
       "      <td>Hello. I do not think that because of chiropra...</td>\n",
       "      <td>Description: Q. I am having swollen lymph node...</td>\n",
       "      <td>395</td>\n",
       "      <td>[-0.10149522, -0.33532476, 0.40812746, -0.2713...</td>\n",
       "      <td>4</td>\n",
       "    </tr>\n",
       "    <tr>\n",
       "      <th>998</th>\n",
       "      <td>Q. How good is Albenza for a raccoon roundworm...</td>\n",
       "      <td>Hello doctor,I am concerned about a possible r...</td>\n",
       "      <td>Hello. Albendazole 400 mg single star dose is ...</td>\n",
       "      <td>Description: Q. How good is Albenza for a racc...</td>\n",
       "      <td>240</td>\n",
       "      <td>[-0.06408733, 0.17669381, 0.09132431, -0.09456...</td>\n",
       "      <td>0</td>\n",
       "    </tr>\n",
       "    <tr>\n",
       "      <th>999</th>\n",
       "      <td>Q. Will Kalarchikai cure multiple ovarian cyst...</td>\n",
       "      <td>Hello doctor, I have multiple small cysts in b...</td>\n",
       "      <td>Hello. I just read your query. See Kalarachi K...</td>\n",
       "      <td>Description: Q. Will Kalarchikai cure multiple...</td>\n",
       "      <td>309</td>\n",
       "      <td>[0.03657364, 0.24297515, 0.09555141, 0.0270566...</td>\n",
       "      <td>2</td>\n",
       "    </tr>\n",
       "  </tbody>\n",
       "</table>\n",
       "<p>1000 rows × 7 columns</p>\n",
       "</div>"
      ],
      "text/plain": [
       "                                           Description  \\\n",
       "0        Q. What does abutment of the nerve root mean?   \n",
       "1    Q. What should I do to reduce my weight gained...   \n",
       "2    Q. I have started to get lots of acne on my fa...   \n",
       "3    Q. Why do I have uncomfortable feeling between...   \n",
       "4    Q. My symptoms after intercourse threatns me e...   \n",
       "..                                                 ...   \n",
       "995  Q. My lax les is 38 cm with inflamed gastric f...   \n",
       "996  Q. I am suffering from mood swings. Kindly adv...   \n",
       "997  Q. I am having swollen lymph node in my neck. ...   \n",
       "998  Q. How good is Albenza for a raccoon roundworm...   \n",
       "999  Q. Will Kalarchikai cure multiple ovarian cyst...   \n",
       "\n",
       "                                               Patient  \\\n",
       "0    Hi doctor,I am just wondering what is abutting...   \n",
       "1    Hi doctor, I am a 22-year-old female who was d...   \n",
       "2    Hi doctor! I used to have clear skin but since...   \n",
       "3    Hello doctor,I am having an uncomfortable feel...   \n",
       "4    Hello doctor,Before two years had sex with a c...   \n",
       "..                                                 ...   \n",
       "995  Hello doctor, My lax les is 38 cm with inflame...   \n",
       "996  Hello doctor,I want to get some information re...   \n",
       "997  Hello doctor, I went to the chiropractor and g...   \n",
       "998  Hello doctor,I am concerned about a possible r...   \n",
       "999  Hello doctor, I have multiple small cysts in b...   \n",
       "\n",
       "                                                Doctor  \\\n",
       "0    Hi. I have gone through your query with dilige...   \n",
       "1    Hi. You have really done well with the hypothy...   \n",
       "2    Hi there Acne has multifactorial etiology. Onl...   \n",
       "3    Hello. The popping and discomfort what you fel...   \n",
       "4    Hello. The HIV test uses a finger prick blood ...   \n",
       "..                                                 ...   \n",
       "995  Hello. Gastritis is an inflammation of stomach...   \n",
       "996  Hello. Let me answer your questions via some b...   \n",
       "997  Hello. I do not think that because of chiropra...   \n",
       "998  Hello. Albendazole 400 mg single star dose is ...   \n",
       "999  Hello. I just read your query. See Kalarachi K...   \n",
       "\n",
       "                                              combined  n_tokens  \\\n",
       "0    Description: Q. What does abutment of the nerv...        95   \n",
       "1    Description: Q. What should I do to reduce my ...       519   \n",
       "2    Description: Q. I have started to get lots of ...       285   \n",
       "3    Description: Q. Why do I have uncomfortable fe...       324   \n",
       "4    Description: Q. My symptoms after intercourse ...       442   \n",
       "..                                                 ...       ...   \n",
       "995  Description: Q. My lax les is 38 cm with infla...       214   \n",
       "996  Description: Q. I am suffering from mood swing...       491   \n",
       "997  Description: Q. I am having swollen lymph node...       395   \n",
       "998  Description: Q. How good is Albenza for a racc...       240   \n",
       "999  Description: Q. Will Kalarchikai cure multiple...       309   \n",
       "\n",
       "                                             embedding  Cluster  \n",
       "0    [-0.109211065, -0.17469415, 0.18996556, 0.0599...        7  \n",
       "1    [-0.014065318, 0.0440334, 0.26095688, 0.086799...        4  \n",
       "2    [-0.39175138, -0.025890486, -0.024644196, -0.0...        3  \n",
       "3    [-0.29406005, -0.31878802, 0.27588362, 0.09649...        4  \n",
       "4    [-0.36187398, 0.18491694, -0.3090741, -0.30197...        6  \n",
       "..                                                 ...      ...  \n",
       "995  [-0.1555396, -0.44157797, -0.15364785, 0.25760...        0  \n",
       "996  [-0.2296337, 0.119730674, 0.37153018, 0.062901...        4  \n",
       "997  [-0.10149522, -0.33532476, 0.40812746, -0.2713...        4  \n",
       "998  [-0.06408733, 0.17669381, 0.09132431, -0.09456...        0  \n",
       "999  [0.03657364, 0.24297515, 0.09555141, 0.0270566...        2  \n",
       "\n",
       "[1000 rows x 7 columns]"
      ]
     },
     "execution_count": 285,
     "metadata": {},
     "output_type": "execute_result"
    }
   ],
   "source": [
    "df"
   ]
  },
  {
   "cell_type": "code",
   "execution_count": 286,
   "metadata": {},
   "outputs": [],
   "source": [
    "#df.groupby(['Cluster'])['Score'].mean()\n"
   ]
  },
  {
   "cell_type": "code",
   "execution_count": 287,
   "metadata": {},
   "outputs": [],
   "source": [
    "#df.groupby(\"Cluster\").Score.mean().sort_values()"
   ]
  },
  {
   "cell_type": "code",
   "execution_count": 288,
   "metadata": {},
   "outputs": [
    {
     "data": {
      "text/plain": [
       "Text(0.5, 1.0, 'Clusters identified visualized in language 2d using t-SNE')"
      ]
     },
     "execution_count": 288,
     "metadata": {},
     "output_type": "execute_result"
    },
    {
     "data": {
      "image/png": "[encoded data removed]",
      "text/plain": [
       "<Figure size 640x480 with 1 Axes>"
      ]
     },
     "metadata": {},
     "output_type": "display_data"
    }
   ],
   "source": [
    "from sklearn.manifold import TSNE\n",
    "import matplotlib\n",
    "import matplotlib.pyplot as plt\n",
    "\n",
    "tsne = TSNE(n_components=2, perplexity=15, random_state=42, init=\"random\", learning_rate=200)\n",
    "vis_dims2 = tsne.fit_transform(matrix)\n",
    "\n",
    "x = [x for x, y in vis_dims2]\n",
    "y = [y for x, y in vis_dims2]\n",
    "\n",
    "for category, color in enumerate([\"purple\", \"green\", \"red\", \"blue\"]):\n",
    "    xs = np.array(x)[df.Cluster == category]\n",
    "    ys = np.array(y)[df.Cluster == category]\n",
    "    plt.scatter(xs, ys, color=color, alpha=0.3)\n",
    "    avg_x = xs.mean()\n",
    "    avg_y = ys.mean()\n",
    "\n",
    "    plt.scatter(avg_x, avg_y, marker=\"x\", color=color, s=100)\n",
    "plt.title(\"Clusters identified visualized in language 2d using t-SNE\")\n"
   ]
  },
  {
   "cell_type": "code",
   "execution_count": null,
   "metadata": {},
   "outputs": [],
   "source": []
  },
  {
   "attachments": {},
   "cell_type": "markdown",
   "metadata": {},
   "source": [
    "Visualization of clusters in a 2d projection. In this run, the green cluster (#1) seems quite different from the others. Let's see a few samples from each cluster."
   ]
  }
 ],
 "metadata": {
  "kernelspec": {
   "display_name": "Python3 (GPT)",
   "language": "python",
   "name": "gpt"
  },
  "language_info": {
   "codemirror_mode": {
    "name": "ipython",
    "version": 3
   },
   "file_extension": ".py",
   "mimetype": "text/x-python",
   "name": "python",
   "nbconvert_exporter": "python",
   "pygments_lexer": "ipython3",
   "version": "3.10.11"
  },
  "vscode": {
   "interpreter": {
    "hash": "365536dcbde60510dc9073d6b991cd35db2d9bac356a11f5b64279a5e6708b97"
   }
  }
 },
 "nbformat": 4,
 "nbformat_minor": 4
}
