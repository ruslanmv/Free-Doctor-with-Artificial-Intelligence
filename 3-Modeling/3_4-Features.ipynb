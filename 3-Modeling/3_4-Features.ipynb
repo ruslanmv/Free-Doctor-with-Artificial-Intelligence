{
 "cells": [
  {
   "cell_type": "markdown",
   "id": "fe1e3c26-5d02-416f-a468-24c044b80592",
   "metadata": {},
   "source": [
    "# Part 3 - Modeling of Free Doctor with AI\r\n"
   ]
  },
  {
   "cell_type": "code",
   "execution_count": 72,
   "id": "e5354d8e-f1b5-432d-a079-5f177a3fb438",
   "metadata": {},
   "outputs": [],
   "source": [
    "import pandas as pd"
   ]
  },
  {
   "cell_type": "code",
   "execution_count": 73,
   "id": "94d9a4b0-f9fd-4e27-8f0f-7782538c4a64",
   "metadata": {},
   "outputs": [],
   "source": [
    "df = pd.read_csv(\"../2-Data/dialogues_embededd.csv\", sep = '\\t')"
   ]
  },
  {
   "cell_type": "code",
   "execution_count": 74,
   "id": "cfd159ba-529b-45b6-b4a4-bacce9a59e2e",
   "metadata": {},
   "outputs": [
    {
     "data": {
      "text/plain": [
       "(480, 1)"
      ]
     },
     "execution_count": 74,
     "metadata": {},
     "output_type": "execute_result"
    }
   ],
   "source": [
    "df.shape"
   ]
  },
  {
   "cell_type": "code",
   "execution_count": 75,
   "id": "38625075-4aa7-4157-87df-fe813af57933",
   "metadata": {},
   "outputs": [
    {
     "data": {
      "text/html": [
       "<div>\n",
       "<style scoped>\n",
       "    .dataframe tbody tr th:only-of-type {\n",
       "        vertical-align: middle;\n",
       "    }\n",
       "\n",
       "    .dataframe tbody tr th {\n",
       "        vertical-align: top;\n",
       "    }\n",
       "\n",
       "    .dataframe thead th {\n",
       "        text-align: right;\n",
       "    }\n",
       "</style>\n",
       "<table border=\"1\" class=\"dataframe\">\n",
       "  <thead>\n",
       "    <tr style=\"text-align: right;\">\n",
       "      <th></th>\n",
       "      <th>Description,Patient,Doctor,combined,n_tokens,embedding</th>\n",
       "    </tr>\n",
       "  </thead>\n",
       "  <tbody>\n",
       "    <tr>\n",
       "      <th>0</th>\n",
       "      <td>Q. What does abutment of the nerve root mean?,...</td>\n",
       "    </tr>\n",
       "    <tr>\n",
       "      <th>1</th>\n",
       "      <td>5.47807328e-02 -1.21358521e-01  2.07694232e-...</td>\n",
       "    </tr>\n",
       "    <tr>\n",
       "      <th>2</th>\n",
       "      <td>-1.16424695e-01  9.98343900e-02  2.16664016e-...</td>\n",
       "    </tr>\n",
       "    <tr>\n",
       "      <th>3</th>\n",
       "      <td>-3.46464328e-02 -2.58172810e-01 -1.97700247e-...</td>\n",
       "    </tr>\n",
       "    <tr>\n",
       "      <th>4</th>\n",
       "      <td>-1.25617221e-01 -5.18234149e-02 -3.13789278e-...</td>\n",
       "    </tr>\n",
       "    <tr>\n",
       "      <th>...</th>\n",
       "      <td>...</td>\n",
       "    </tr>\n",
       "    <tr>\n",
       "      <th>475</th>\n",
       "      <td>9.41688716e-02  1.84736550e-01  1.91770360e-...</td>\n",
       "    </tr>\n",
       "    <tr>\n",
       "      <th>476</th>\n",
       "      <td>-2.40704566e-01  1.08602822e-01  1.88638419e-...</td>\n",
       "    </tr>\n",
       "    <tr>\n",
       "      <th>477</th>\n",
       "      <td>-1.51312817e-02  1.52006894e-01 -6.04057573e-...</td>\n",
       "    </tr>\n",
       "    <tr>\n",
       "      <th>478</th>\n",
       "      <td>-1.43863291e-01  3.51222754e-01  3.39524925e-...</td>\n",
       "    </tr>\n",
       "    <tr>\n",
       "      <th>479</th>\n",
       "      <td>-2.97551930e-01 -1.77235723e-01 -5.60616851e-...</td>\n",
       "    </tr>\n",
       "  </tbody>\n",
       "</table>\n",
       "<p>480 rows × 1 columns</p>\n",
       "</div>"
      ],
      "text/plain": [
       "    Description,Patient,Doctor,combined,n_tokens,embedding\n",
       "0    Q. What does abutment of the nerve root mean?,...    \n",
       "1      5.47807328e-02 -1.21358521e-01  2.07694232e-...    \n",
       "2     -1.16424695e-01  9.98343900e-02  2.16664016e-...    \n",
       "3     -3.46464328e-02 -2.58172810e-01 -1.97700247e-...    \n",
       "4     -1.25617221e-01 -5.18234149e-02 -3.13789278e-...    \n",
       "..                                                 ...    \n",
       "475    9.41688716e-02  1.84736550e-01  1.91770360e-...    \n",
       "476   -2.40704566e-01  1.08602822e-01  1.88638419e-...    \n",
       "477   -1.51312817e-02  1.52006894e-01 -6.04057573e-...    \n",
       "478   -1.43863291e-01  3.51222754e-01  3.39524925e-...    \n",
       "479   -2.97551930e-01 -1.77235723e-01 -5.60616851e-...    \n",
       "\n",
       "[480 rows x 1 columns]"
      ]
     },
     "execution_count": 75,
     "metadata": {},
     "output_type": "execute_result"
    }
   ],
   "source": [
    "df"
   ]
  },
  {
   "cell_type": "markdown",
   "id": "935b3cb0-346d-4248-bb9c-ed642963080d",
   "metadata": {},
   "source": [
    "In ordering to create our model, we need to create an additional feature that is the Relevance"
   ]
  },
  {
   "cell_type": "code",
   "execution_count": null,
   "id": "716785c7-81ce-42d5-bca4-2003e5ac2ddd",
   "metadata": {},
   "outputs": [],
   "source": []
  }
 ],
 "metadata": {
  "kernelspec": {
   "display_name": "Python3 (GPT)",
   "language": "python",
   "name": "gpt"
  },
  "language_info": {
   "codemirror_mode": {
    "name": "ipython",
    "version": 3
   },
   "file_extension": ".py",
   "mimetype": "text/x-python",
   "name": "python",
   "nbconvert_exporter": "python",
   "pygments_lexer": "ipython3",
   "version": "3.10.11"
  }
 },
 "nbformat": 4,
 "nbformat_minor": 5
}
