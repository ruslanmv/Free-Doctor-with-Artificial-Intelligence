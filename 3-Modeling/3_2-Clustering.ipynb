{
 "cells": [
  {
   "attachments": {},
   "cell_type": "markdown",
   "metadata": {},
   "source": [
    "## Clustering\n",
    "\n",
    "We use a simple k-means algorithm to demonstrate how clustering can be done. Clustering can help discover valuable, hidden groupings within the data. The dataset is created in the [Obtain_dataset Notebook](Obtain_dataset.ipynb)."
   ]
  },
  {
   "cell_type": "code",
   "execution_count": 433,
   "metadata": {},
   "outputs": [],
   "source": [
    "# imports\n",
    "import numpy as np\n",
    "import pandas as pd\n",
    "from ast import literal_eval\n",
    "# load data\n",
    "datafile_path = \"../2-Data/dialogues_embededd.pkl\"\n",
    "df = pd.read_pickle(datafile_path)"
   ]
  },
  {
   "cell_type": "code",
   "execution_count": 434,
   "metadata": {},
   "outputs": [
    {
     "data": {
      "text/html": [
       "<div>\n",
       "<style scoped>\n",
       "    .dataframe tbody tr th:only-of-type {\n",
       "        vertical-align: middle;\n",
       "    }\n",
       "\n",
       "    .dataframe tbody tr th {\n",
       "        vertical-align: top;\n",
       "    }\n",
       "\n",
       "    .dataframe thead th {\n",
       "        text-align: right;\n",
       "    }\n",
       "</style>\n",
       "<table border=\"1\" class=\"dataframe\">\n",
       "  <thead>\n",
       "    <tr style=\"text-align: right;\">\n",
       "      <th></th>\n",
       "      <th>Description</th>\n",
       "      <th>Patient</th>\n",
       "      <th>Doctor</th>\n",
       "      <th>combined</th>\n",
       "      <th>n_tokens</th>\n",
       "      <th>embedding</th>\n",
       "    </tr>\n",
       "  </thead>\n",
       "  <tbody>\n",
       "    <tr>\n",
       "      <th>255916</th>\n",
       "      <td>What medicine is best for taking out pores and...</td>\n",
       "      <td>Hi, I am (Simran) 28 years (Female) hight 5/3 ...</td>\n",
       "      <td>Hi simran, your problem can be best sort out u...</td>\n",
       "      <td>Description: What medicine is best for taking ...</td>\n",
       "      <td>282</td>\n",
       "      <td>[-0.2568769, 0.14872037, 0.17243277, 0.2426784...</td>\n",
       "    </tr>\n",
       "    <tr>\n",
       "      <th>255917</th>\n",
       "      <td>What causes non conception despite unprotected...</td>\n",
       "      <td>Hi, i am living with my partner from last six ...</td>\n",
       "      <td>do serum tsh and serum prolactin den do hsg on...</td>\n",
       "      <td>Description: What causes non conception despit...</td>\n",
       "      <td>195</td>\n",
       "      <td>[-0.058888793, 0.084498726, -0.05540138, 0.021...</td>\n",
       "    </tr>\n",
       "    <tr>\n",
       "      <th>255918</th>\n",
       "      <td>How long after getting chicken pox is it safe ...</td>\n",
       "      <td>i am 25 yrs old. last year in June i had an IU...</td>\n",
       "      <td>Hi, I think you should keep a gap of 3 months ...</td>\n",
       "      <td>Description: How long after getting chicken po...</td>\n",
       "      <td>254</td>\n",
       "      <td>[-0.12680525, -0.01062898, -0.25460148, 0.0511...</td>\n",
       "    </tr>\n",
       "    <tr>\n",
       "      <th>255919</th>\n",
       "      <td>How to remove unwanted hair without any side e...</td>\n",
       "      <td>hi doctor! i m 22 years old and i want to remo...</td>\n",
       "      <td>Hello, which part of the body do you have thes...</td>\n",
       "      <td>Description: How to remove unwanted hair witho...</td>\n",
       "      <td>110</td>\n",
       "      <td>[0.12641467, -0.1543769, 0.42004266, 0.1722529...</td>\n",
       "    </tr>\n",
       "    <tr>\n",
       "      <th>255920</th>\n",
       "      <td>I am 15. Can i shave my pubic hair?</td>\n",
       "      <td>sorry,im just curious because im 15 and when i...</td>\n",
       "      <td>haha aw. Yes your supposed to shave, trim it f...</td>\n",
       "      <td>Description: I am 15. Can i shave my pubic hai...</td>\n",
       "      <td>223</td>\n",
       "      <td>[-0.06219541, 0.020706447, 0.38799724, -0.0219...</td>\n",
       "    </tr>\n",
       "    <tr>\n",
       "      <th>...</th>\n",
       "      <td>...</td>\n",
       "      <td>...</td>\n",
       "      <td>...</td>\n",
       "      <td>...</td>\n",
       "      <td>...</td>\n",
       "      <td>...</td>\n",
       "    </tr>\n",
       "    <tr>\n",
       "      <th>256911</th>\n",
       "      <td>Why is hair fall increasing while using Bontre...</td>\n",
       "      <td>I am suffering from excessive hairfall. My doc...</td>\n",
       "      <td>Hello Dear Thanks for writing to us, we are he...</td>\n",
       "      <td>Description: Why is hair fall increasing while...</td>\n",
       "      <td>211</td>\n",
       "      <td>[-0.17113408, 0.10835318, 0.33148944, -0.06146...</td>\n",
       "    </tr>\n",
       "    <tr>\n",
       "      <th>256912</th>\n",
       "      <td>Why was I asked to discontinue Androanagen whi...</td>\n",
       "      <td>Hi Doctor, I have been having severe hair fall...</td>\n",
       "      <td>hello,        hair4u is combination of minoxid...</td>\n",
       "      <td>Description: Why was I asked to discontinue An...</td>\n",
       "      <td>154</td>\n",
       "      <td>[-0.24637492, 0.031407423, -0.05137701, -0.301...</td>\n",
       "    </tr>\n",
       "    <tr>\n",
       "      <th>256913</th>\n",
       "      <td>Can Mintop 5% Lotion be used by women for seve...</td>\n",
       "      <td>Hi..i hav sever hair loss problem so consulted...</td>\n",
       "      <td>HI  I have evaluated your query thoroughly you...</td>\n",
       "      <td>Description: Can Mintop 5% Lotion be used by w...</td>\n",
       "      <td>191</td>\n",
       "      <td>[-0.32340947, 0.3667281, 0.3651925, -0.0989788...</td>\n",
       "    </tr>\n",
       "    <tr>\n",
       "      <th>256914</th>\n",
       "      <td>Is Minoxin 5% lotion advisable instead of Foli...</td>\n",
       "      <td>Hi, i am 25 year old girl, i am having massive...</td>\n",
       "      <td>Hello and Welcome to ‘Ask A Doctor’ service.I ...</td>\n",
       "      <td>Description: Is Minoxin 5% lotion advisable in...</td>\n",
       "      <td>232</td>\n",
       "      <td>[-0.18737659, 0.12219846, 0.2365137, 0.1126744...</td>\n",
       "    </tr>\n",
       "    <tr>\n",
       "      <th>256915</th>\n",
       "      <td>Are Biotin supplements need to reduce severe h...</td>\n",
       "      <td>iam having hairfall for a decade.. but fews we...</td>\n",
       "      <td>you did'nt mention about thyroid problem ...us...</td>\n",
       "      <td>Description: Are Biotin supplements need to re...</td>\n",
       "      <td>213</td>\n",
       "      <td>[-0.032349, -0.050617322, 0.30625877, 0.201994...</td>\n",
       "    </tr>\n",
       "  </tbody>\n",
       "</table>\n",
       "<p>1000 rows × 6 columns</p>\n",
       "</div>"
      ],
      "text/plain": [
       "                                              Description  \\\n",
       "255916  What medicine is best for taking out pores and...   \n",
       "255917  What causes non conception despite unprotected...   \n",
       "255918  How long after getting chicken pox is it safe ...   \n",
       "255919  How to remove unwanted hair without any side e...   \n",
       "255920                I am 15. Can i shave my pubic hair?   \n",
       "...                                                   ...   \n",
       "256911  Why is hair fall increasing while using Bontre...   \n",
       "256912  Why was I asked to discontinue Androanagen whi...   \n",
       "256913  Can Mintop 5% Lotion be used by women for seve...   \n",
       "256914  Is Minoxin 5% lotion advisable instead of Foli...   \n",
       "256915  Are Biotin supplements need to reduce severe h...   \n",
       "\n",
       "                                                  Patient  \\\n",
       "255916  Hi, I am (Simran) 28 years (Female) hight 5/3 ...   \n",
       "255917  Hi, i am living with my partner from last six ...   \n",
       "255918  i am 25 yrs old. last year in June i had an IU...   \n",
       "255919  hi doctor! i m 22 years old and i want to remo...   \n",
       "255920  sorry,im just curious because im 15 and when i...   \n",
       "...                                                   ...   \n",
       "256911  I am suffering from excessive hairfall. My doc...   \n",
       "256912  Hi Doctor, I have been having severe hair fall...   \n",
       "256913  Hi..i hav sever hair loss problem so consulted...   \n",
       "256914  Hi, i am 25 year old girl, i am having massive...   \n",
       "256915  iam having hairfall for a decade.. but fews we...   \n",
       "\n",
       "                                                   Doctor  \\\n",
       "255916  Hi simran, your problem can be best sort out u...   \n",
       "255917  do serum tsh and serum prolactin den do hsg on...   \n",
       "255918  Hi, I think you should keep a gap of 3 months ...   \n",
       "255919  Hello, which part of the body do you have thes...   \n",
       "255920  haha aw. Yes your supposed to shave, trim it f...   \n",
       "...                                                   ...   \n",
       "256911  Hello Dear Thanks for writing to us, we are he...   \n",
       "256912  hello,        hair4u is combination of minoxid...   \n",
       "256913  HI  I have evaluated your query thoroughly you...   \n",
       "256914  Hello and Welcome to ‘Ask A Doctor’ service.I ...   \n",
       "256915  you did'nt mention about thyroid problem ...us...   \n",
       "\n",
       "                                                 combined  n_tokens  \\\n",
       "255916  Description: What medicine is best for taking ...       282   \n",
       "255917  Description: What causes non conception despit...       195   \n",
       "255918  Description: How long after getting chicken po...       254   \n",
       "255919  Description: How to remove unwanted hair witho...       110   \n",
       "255920  Description: I am 15. Can i shave my pubic hai...       223   \n",
       "...                                                   ...       ...   \n",
       "256911  Description: Why is hair fall increasing while...       211   \n",
       "256912  Description: Why was I asked to discontinue An...       154   \n",
       "256913  Description: Can Mintop 5% Lotion be used by w...       191   \n",
       "256914  Description: Is Minoxin 5% lotion advisable in...       232   \n",
       "256915  Description: Are Biotin supplements need to re...       213   \n",
       "\n",
       "                                                embedding  \n",
       "255916  [-0.2568769, 0.14872037, 0.17243277, 0.2426784...  \n",
       "255917  [-0.058888793, 0.084498726, -0.05540138, 0.021...  \n",
       "255918  [-0.12680525, -0.01062898, -0.25460148, 0.0511...  \n",
       "255919  [0.12641467, -0.1543769, 0.42004266, 0.1722529...  \n",
       "255920  [-0.06219541, 0.020706447, 0.38799724, -0.0219...  \n",
       "...                                                   ...  \n",
       "256911  [-0.17113408, 0.10835318, 0.33148944, -0.06146...  \n",
       "256912  [-0.24637492, 0.031407423, -0.05137701, -0.301...  \n",
       "256913  [-0.32340947, 0.3667281, 0.3651925, -0.0989788...  \n",
       "256914  [-0.18737659, 0.12219846, 0.2365137, 0.1126744...  \n",
       "256915  [-0.032349, -0.050617322, 0.30625877, 0.201994...  \n",
       "\n",
       "[1000 rows x 6 columns]"
      ]
     },
     "execution_count": 434,
     "metadata": {},
     "output_type": "execute_result"
    }
   ],
   "source": [
    "df"
   ]
  },
  {
   "cell_type": "code",
   "execution_count": 435,
   "metadata": {},
   "outputs": [
    {
     "data": {
      "text/plain": [
       "(1000, 384)"
      ]
     },
     "execution_count": 435,
     "metadata": {},
     "output_type": "execute_result"
    }
   ],
   "source": [
    "df[\"embedding\"] = df.embedding.apply(np.array)  # convert string to numpy array\n",
    "matrix = np.vstack(df.embedding.values)\n",
    "matrix.shape\n"
   ]
  },
  {
   "cell_type": "code",
   "execution_count": 436,
   "metadata": {},
   "outputs": [],
   "source": [
    "\n",
    "#df[\"embedding_doctor\"] = df.embedding_doctor.apply(np.array)  # convert string to numpy array\n",
    "#matrix = np.vstack(df.embedding_doctor.values)\n",
    "#matrix.shape\n"
   ]
  },
  {
   "cell_type": "code",
   "execution_count": 437,
   "metadata": {},
   "outputs": [
    {
     "data": {
      "text/html": [
       "<div>\n",
       "<style scoped>\n",
       "    .dataframe tbody tr th:only-of-type {\n",
       "        vertical-align: middle;\n",
       "    }\n",
       "\n",
       "    .dataframe tbody tr th {\n",
       "        vertical-align: top;\n",
       "    }\n",
       "\n",
       "    .dataframe thead th {\n",
       "        text-align: right;\n",
       "    }\n",
       "</style>\n",
       "<table border=\"1\" class=\"dataframe\">\n",
       "  <thead>\n",
       "    <tr style=\"text-align: right;\">\n",
       "      <th></th>\n",
       "      <th>Description</th>\n",
       "      <th>Patient</th>\n",
       "      <th>Doctor</th>\n",
       "      <th>combined</th>\n",
       "      <th>n_tokens</th>\n",
       "      <th>embedding</th>\n",
       "    </tr>\n",
       "  </thead>\n",
       "  <tbody>\n",
       "    <tr>\n",
       "      <th>255916</th>\n",
       "      <td>What medicine is best for taking out pores and...</td>\n",
       "      <td>Hi, I am (Simran) 28 years (Female) hight 5/3 ...</td>\n",
       "      <td>Hi simran, your problem can be best sort out u...</td>\n",
       "      <td>Description: What medicine is best for taking ...</td>\n",
       "      <td>282</td>\n",
       "      <td>[-0.2568769, 0.14872037, 0.17243277, 0.2426784...</td>\n",
       "    </tr>\n",
       "    <tr>\n",
       "      <th>255917</th>\n",
       "      <td>What causes non conception despite unprotected...</td>\n",
       "      <td>Hi, i am living with my partner from last six ...</td>\n",
       "      <td>do serum tsh and serum prolactin den do hsg on...</td>\n",
       "      <td>Description: What causes non conception despit...</td>\n",
       "      <td>195</td>\n",
       "      <td>[-0.058888793, 0.084498726, -0.05540138, 0.021...</td>\n",
       "    </tr>\n",
       "    <tr>\n",
       "      <th>255918</th>\n",
       "      <td>How long after getting chicken pox is it safe ...</td>\n",
       "      <td>i am 25 yrs old. last year in June i had an IU...</td>\n",
       "      <td>Hi, I think you should keep a gap of 3 months ...</td>\n",
       "      <td>Description: How long after getting chicken po...</td>\n",
       "      <td>254</td>\n",
       "      <td>[-0.12680525, -0.01062898, -0.25460148, 0.0511...</td>\n",
       "    </tr>\n",
       "    <tr>\n",
       "      <th>255919</th>\n",
       "      <td>How to remove unwanted hair without any side e...</td>\n",
       "      <td>hi doctor! i m 22 years old and i want to remo...</td>\n",
       "      <td>Hello, which part of the body do you have thes...</td>\n",
       "      <td>Description: How to remove unwanted hair witho...</td>\n",
       "      <td>110</td>\n",
       "      <td>[0.12641467, -0.1543769, 0.42004266, 0.1722529...</td>\n",
       "    </tr>\n",
       "    <tr>\n",
       "      <th>255920</th>\n",
       "      <td>I am 15. Can i shave my pubic hair?</td>\n",
       "      <td>sorry,im just curious because im 15 and when i...</td>\n",
       "      <td>haha aw. Yes your supposed to shave, trim it f...</td>\n",
       "      <td>Description: I am 15. Can i shave my pubic hai...</td>\n",
       "      <td>223</td>\n",
       "      <td>[-0.06219541, 0.020706447, 0.38799724, -0.0219...</td>\n",
       "    </tr>\n",
       "    <tr>\n",
       "      <th>...</th>\n",
       "      <td>...</td>\n",
       "      <td>...</td>\n",
       "      <td>...</td>\n",
       "      <td>...</td>\n",
       "      <td>...</td>\n",
       "      <td>...</td>\n",
       "    </tr>\n",
       "    <tr>\n",
       "      <th>256911</th>\n",
       "      <td>Why is hair fall increasing while using Bontre...</td>\n",
       "      <td>I am suffering from excessive hairfall. My doc...</td>\n",
       "      <td>Hello Dear Thanks for writing to us, we are he...</td>\n",
       "      <td>Description: Why is hair fall increasing while...</td>\n",
       "      <td>211</td>\n",
       "      <td>[-0.17113408, 0.10835318, 0.33148944, -0.06146...</td>\n",
       "    </tr>\n",
       "    <tr>\n",
       "      <th>256912</th>\n",
       "      <td>Why was I asked to discontinue Androanagen whi...</td>\n",
       "      <td>Hi Doctor, I have been having severe hair fall...</td>\n",
       "      <td>hello,        hair4u is combination of minoxid...</td>\n",
       "      <td>Description: Why was I asked to discontinue An...</td>\n",
       "      <td>154</td>\n",
       "      <td>[-0.24637492, 0.031407423, -0.05137701, -0.301...</td>\n",
       "    </tr>\n",
       "    <tr>\n",
       "      <th>256913</th>\n",
       "      <td>Can Mintop 5% Lotion be used by women for seve...</td>\n",
       "      <td>Hi..i hav sever hair loss problem so consulted...</td>\n",
       "      <td>HI  I have evaluated your query thoroughly you...</td>\n",
       "      <td>Description: Can Mintop 5% Lotion be used by w...</td>\n",
       "      <td>191</td>\n",
       "      <td>[-0.32340947, 0.3667281, 0.3651925, -0.0989788...</td>\n",
       "    </tr>\n",
       "    <tr>\n",
       "      <th>256914</th>\n",
       "      <td>Is Minoxin 5% lotion advisable instead of Foli...</td>\n",
       "      <td>Hi, i am 25 year old girl, i am having massive...</td>\n",
       "      <td>Hello and Welcome to ‘Ask A Doctor’ service.I ...</td>\n",
       "      <td>Description: Is Minoxin 5% lotion advisable in...</td>\n",
       "      <td>232</td>\n",
       "      <td>[-0.18737659, 0.12219846, 0.2365137, 0.1126744...</td>\n",
       "    </tr>\n",
       "    <tr>\n",
       "      <th>256915</th>\n",
       "      <td>Are Biotin supplements need to reduce severe h...</td>\n",
       "      <td>iam having hairfall for a decade.. but fews we...</td>\n",
       "      <td>you did'nt mention about thyroid problem ...us...</td>\n",
       "      <td>Description: Are Biotin supplements need to re...</td>\n",
       "      <td>213</td>\n",
       "      <td>[-0.032349, -0.050617322, 0.30625877, 0.201994...</td>\n",
       "    </tr>\n",
       "  </tbody>\n",
       "</table>\n",
       "<p>1000 rows × 6 columns</p>\n",
       "</div>"
      ],
      "text/plain": [
       "                                              Description  \\\n",
       "255916  What medicine is best for taking out pores and...   \n",
       "255917  What causes non conception despite unprotected...   \n",
       "255918  How long after getting chicken pox is it safe ...   \n",
       "255919  How to remove unwanted hair without any side e...   \n",
       "255920                I am 15. Can i shave my pubic hair?   \n",
       "...                                                   ...   \n",
       "256911  Why is hair fall increasing while using Bontre...   \n",
       "256912  Why was I asked to discontinue Androanagen whi...   \n",
       "256913  Can Mintop 5% Lotion be used by women for seve...   \n",
       "256914  Is Minoxin 5% lotion advisable instead of Foli...   \n",
       "256915  Are Biotin supplements need to reduce severe h...   \n",
       "\n",
       "                                                  Patient  \\\n",
       "255916  Hi, I am (Simran) 28 years (Female) hight 5/3 ...   \n",
       "255917  Hi, i am living with my partner from last six ...   \n",
       "255918  i am 25 yrs old. last year in June i had an IU...   \n",
       "255919  hi doctor! i m 22 years old and i want to remo...   \n",
       "255920  sorry,im just curious because im 15 and when i...   \n",
       "...                                                   ...   \n",
       "256911  I am suffering from excessive hairfall. My doc...   \n",
       "256912  Hi Doctor, I have been having severe hair fall...   \n",
       "256913  Hi..i hav sever hair loss problem so consulted...   \n",
       "256914  Hi, i am 25 year old girl, i am having massive...   \n",
       "256915  iam having hairfall for a decade.. but fews we...   \n",
       "\n",
       "                                                   Doctor  \\\n",
       "255916  Hi simran, your problem can be best sort out u...   \n",
       "255917  do serum tsh and serum prolactin den do hsg on...   \n",
       "255918  Hi, I think you should keep a gap of 3 months ...   \n",
       "255919  Hello, which part of the body do you have thes...   \n",
       "255920  haha aw. Yes your supposed to shave, trim it f...   \n",
       "...                                                   ...   \n",
       "256911  Hello Dear Thanks for writing to us, we are he...   \n",
       "256912  hello,        hair4u is combination of minoxid...   \n",
       "256913  HI  I have evaluated your query thoroughly you...   \n",
       "256914  Hello and Welcome to ‘Ask A Doctor’ service.I ...   \n",
       "256915  you did'nt mention about thyroid problem ...us...   \n",
       "\n",
       "                                                 combined  n_tokens  \\\n",
       "255916  Description: What medicine is best for taking ...       282   \n",
       "255917  Description: What causes non conception despit...       195   \n",
       "255918  Description: How long after getting chicken po...       254   \n",
       "255919  Description: How to remove unwanted hair witho...       110   \n",
       "255920  Description: I am 15. Can i shave my pubic hai...       223   \n",
       "...                                                   ...       ...   \n",
       "256911  Description: Why is hair fall increasing while...       211   \n",
       "256912  Description: Why was I asked to discontinue An...       154   \n",
       "256913  Description: Can Mintop 5% Lotion be used by w...       191   \n",
       "256914  Description: Is Minoxin 5% lotion advisable in...       232   \n",
       "256915  Description: Are Biotin supplements need to re...       213   \n",
       "\n",
       "                                                embedding  \n",
       "255916  [-0.2568769, 0.14872037, 0.17243277, 0.2426784...  \n",
       "255917  [-0.058888793, 0.084498726, -0.05540138, 0.021...  \n",
       "255918  [-0.12680525, -0.01062898, -0.25460148, 0.0511...  \n",
       "255919  [0.12641467, -0.1543769, 0.42004266, 0.1722529...  \n",
       "255920  [-0.06219541, 0.020706447, 0.38799724, -0.0219...  \n",
       "...                                                   ...  \n",
       "256911  [-0.17113408, 0.10835318, 0.33148944, -0.06146...  \n",
       "256912  [-0.24637492, 0.031407423, -0.05137701, -0.301...  \n",
       "256913  [-0.32340947, 0.3667281, 0.3651925, -0.0989788...  \n",
       "256914  [-0.18737659, 0.12219846, 0.2365137, 0.1126744...  \n",
       "256915  [-0.032349, -0.050617322, 0.30625877, 0.201994...  \n",
       "\n",
       "[1000 rows x 6 columns]"
      ]
     },
     "execution_count": 437,
     "metadata": {},
     "output_type": "execute_result"
    }
   ],
   "source": [
    "df"
   ]
  },
  {
   "cell_type": "markdown",
   "metadata": {},
   "source": [
    "\n",
    "## 1. Find the number of clusters"
   ]
  },
  {
   "cell_type": "code",
   "execution_count": 438,
   "metadata": {},
   "outputs": [],
   "source": [
    "import numpy as np\n",
    "import matplotlib.pyplot as plt\n",
    "import pandas as pd \n",
    "import sklearn"
   ]
  },
  {
   "cell_type": "code",
   "execution_count": 439,
   "metadata": {},
   "outputs": [],
   "source": [
    "df[\"embedding\"] = df.embedding.apply(np.array)  # convert string to numpy array"
   ]
  },
  {
   "cell_type": "code",
   "execution_count": 440,
   "metadata": {},
   "outputs": [],
   "source": [
    "X=df.iloc[:, 5].values"
   ]
  },
  {
   "cell_type": "code",
   "execution_count": 441,
   "metadata": {},
   "outputs": [],
   "source": [
    "#df.iloc[:, 5]"
   ]
  },
  {
   "cell_type": "code",
   "execution_count": 442,
   "metadata": {},
   "outputs": [],
   "source": [
    "X_input=[embed.tolist() for embed in X]"
   ]
  },
  {
   "cell_type": "code",
   "execution_count": 443,
   "metadata": {},
   "outputs": [],
   "source": [
    "#this is your array with the values\n",
    "X = np.array(X_input)"
   ]
  },
  {
   "cell_type": "code",
   "execution_count": 444,
   "metadata": {},
   "outputs": [
    {
     "data": {
      "text/plain": [
       "1000"
      ]
     },
     "execution_count": 444,
     "metadata": {},
     "output_type": "execute_result"
    }
   ],
   "source": [
    "len(X_input)"
   ]
  },
  {
   "cell_type": "code",
   "execution_count": 445,
   "metadata": {},
   "outputs": [
    {
     "data": {
      "text/plain": [
       "384"
      ]
     },
     "execution_count": 445,
     "metadata": {},
     "output_type": "execute_result"
    }
   ],
   "source": [
    "len(X_input[:2][1])"
   ]
  },
  {
   "cell_type": "code",
   "execution_count": null,
   "metadata": {},
   "outputs": [],
   "source": []
  },
  {
   "cell_type": "code",
   "execution_count": 446,
   "metadata": {},
   "outputs": [],
   "source": [
    "from sklearn.cluster import KMeans\n",
    "wcss = [] \n",
    "max=20\n",
    "for i in range(1, max): \n",
    "    kmeans = KMeans(n_init = i, init = 'k-means++', random_state = 42)\n",
    "    kmeans.fit(X) \n",
    "    wcss.append(kmeans.inertia_)"
   ]
  },
  {
   "cell_type": "code",
   "execution_count": 447,
   "metadata": {},
   "outputs": [
    {
     "data": {
      "image/png": "[encoded data removed]",
      "text/plain": [
       "<Figure size 640x480 with 1 Axes>"
      ]
     },
     "metadata": {},
     "output_type": "display_data"
    }
   ],
   "source": [
    "plt.plot(range(1, max), wcss)\n",
    "plt.xlabel('Number of clusters')\n",
    "plt.ylabel('WCSS') \n",
    "plt.show()"
   ]
  },
  {
   "cell_type": "code",
   "execution_count": null,
   "metadata": {},
   "outputs": [],
   "source": []
  },
  {
   "attachments": {},
   "cell_type": "markdown",
   "metadata": {},
   "source": [
    "### 1. Find the clusters using K-means"
   ]
  },
  {
   "attachments": {},
   "cell_type": "markdown",
   "metadata": {},
   "source": [
    "We show the simplest use of K-means. You can pick the number of clusters that fits your use case best."
   ]
  },
  {
   "cell_type": "code",
   "execution_count": 458,
   "metadata": {},
   "outputs": [],
   "source": [
    "from sklearn.cluster import KMeans\n",
    "n_clusters = 7\n",
    "kmeans = KMeans(n_init=n_clusters, init=\"k-means++\", random_state=42)\n",
    "kmeans.fit(matrix)\n",
    "labels = kmeans.labels_\n",
    "df[\"Cluster\"] = labels"
   ]
  },
  {
   "cell_type": "code",
   "execution_count": 459,
   "metadata": {},
   "outputs": [],
   "source": [
    "# Centroid coordinates\n",
    "centroids = kmeans.cluster_centers_\n",
    "# get centroids\n",
    "#centroids = model.cluster_centers_"
   ]
  },
  {
   "cell_type": "code",
   "execution_count": 460,
   "metadata": {},
   "outputs": [
    {
     "data": {
      "text/plain": [
       "(1000, 384)"
      ]
     },
     "execution_count": 460,
     "metadata": {},
     "output_type": "execute_result"
    }
   ],
   "source": [
    "matrix.shape"
   ]
  },
  {
   "cell_type": "code",
   "execution_count": 461,
   "metadata": {},
   "outputs": [],
   "source": [
    "import scipy.spatial.distance as sdist"
   ]
  },
  {
   "cell_type": "code",
   "execution_count": 462,
   "metadata": {},
   "outputs": [
    {
     "data": {
      "text/plain": [
       "(8, 384)"
      ]
     },
     "execution_count": 462,
     "metadata": {},
     "output_type": "execute_result"
    }
   ],
   "source": [
    "centroids.shape"
   ]
  },
  {
   "cell_type": "code",
   "execution_count": 463,
   "metadata": {},
   "outputs": [
    {
     "data": {
      "text/plain": [
       "(1000, 384)"
      ]
     },
     "execution_count": 463,
     "metadata": {},
     "output_type": "execute_result"
    }
   ],
   "source": [
    "centroids[df['Cluster']].shape"
   ]
  },
  {
   "cell_type": "code",
   "execution_count": 464,
   "metadata": {},
   "outputs": [],
   "source": [
    "def distance(index):\n",
    "    dist=sdist.norm(matrix[index] - centroids[df['Cluster']][index])\n",
    "    return dist"
   ]
  },
  {
   "cell_type": "code",
   "execution_count": 465,
   "metadata": {},
   "outputs": [],
   "source": [
    "dist=[distance(index) for index in range(len(df['Cluster']))]\n"
   ]
  },
  {
   "cell_type": "code",
   "execution_count": 466,
   "metadata": {},
   "outputs": [],
   "source": [
    "df['distance'] = dist"
   ]
  },
  {
   "cell_type": "code",
   "execution_count": 467,
   "metadata": {},
   "outputs": [
    {
     "data": {
      "text/html": [
       "<div>\n",
       "<style scoped>\n",
       "    .dataframe tbody tr th:only-of-type {\n",
       "        vertical-align: middle;\n",
       "    }\n",
       "\n",
       "    .dataframe tbody tr th {\n",
       "        vertical-align: top;\n",
       "    }\n",
       "\n",
       "    .dataframe thead th {\n",
       "        text-align: right;\n",
       "    }\n",
       "</style>\n",
       "<table border=\"1\" class=\"dataframe\">\n",
       "  <thead>\n",
       "    <tr style=\"text-align: right;\">\n",
       "      <th></th>\n",
       "      <th>Description</th>\n",
       "      <th>Patient</th>\n",
       "      <th>Doctor</th>\n",
       "      <th>combined</th>\n",
       "      <th>n_tokens</th>\n",
       "      <th>embedding</th>\n",
       "      <th>Cluster</th>\n",
       "      <th>distance</th>\n",
       "    </tr>\n",
       "  </thead>\n",
       "  <tbody>\n",
       "    <tr>\n",
       "      <th>255916</th>\n",
       "      <td>What medicine is best for taking out pores and...</td>\n",
       "      <td>Hi, I am (Simran) 28 years (Female) hight 5/3 ...</td>\n",
       "      <td>Hi simran, your problem can be best sort out u...</td>\n",
       "      <td>Description: What medicine is best for taking ...</td>\n",
       "      <td>282</td>\n",
       "      <td>[-0.2568769, 0.14872037, 0.17243277, 0.2426784...</td>\n",
       "      <td>7</td>\n",
       "      <td>3.389531</td>\n",
       "    </tr>\n",
       "    <tr>\n",
       "      <th>255917</th>\n",
       "      <td>What causes non conception despite unprotected...</td>\n",
       "      <td>Hi, i am living with my partner from last six ...</td>\n",
       "      <td>do serum tsh and serum prolactin den do hsg on...</td>\n",
       "      <td>Description: What causes non conception despit...</td>\n",
       "      <td>195</td>\n",
       "      <td>[-0.058888793, 0.084498726, -0.05540138, 0.021...</td>\n",
       "      <td>5</td>\n",
       "      <td>3.848544</td>\n",
       "    </tr>\n",
       "    <tr>\n",
       "      <th>255918</th>\n",
       "      <td>How long after getting chicken pox is it safe ...</td>\n",
       "      <td>i am 25 yrs old. last year in June i had an IU...</td>\n",
       "      <td>Hi, I think you should keep a gap of 3 months ...</td>\n",
       "      <td>Description: How long after getting chicken po...</td>\n",
       "      <td>254</td>\n",
       "      <td>[-0.12680525, -0.01062898, -0.25460148, 0.0511...</td>\n",
       "      <td>5</td>\n",
       "      <td>3.287058</td>\n",
       "    </tr>\n",
       "    <tr>\n",
       "      <th>255919</th>\n",
       "      <td>How to remove unwanted hair without any side e...</td>\n",
       "      <td>hi doctor! i m 22 years old and i want to remo...</td>\n",
       "      <td>Hello, which part of the body do you have thes...</td>\n",
       "      <td>Description: How to remove unwanted hair witho...</td>\n",
       "      <td>110</td>\n",
       "      <td>[0.12641467, -0.1543769, 0.42004266, 0.1722529...</td>\n",
       "      <td>6</td>\n",
       "      <td>3.875464</td>\n",
       "    </tr>\n",
       "    <tr>\n",
       "      <th>255920</th>\n",
       "      <td>I am 15. Can i shave my pubic hair?</td>\n",
       "      <td>sorry,im just curious because im 15 and when i...</td>\n",
       "      <td>haha aw. Yes your supposed to shave, trim it f...</td>\n",
       "      <td>Description: I am 15. Can i shave my pubic hai...</td>\n",
       "      <td>223</td>\n",
       "      <td>[-0.06219541, 0.020706447, 0.38799724, -0.0219...</td>\n",
       "      <td>6</td>\n",
       "      <td>3.841674</td>\n",
       "    </tr>\n",
       "    <tr>\n",
       "      <th>...</th>\n",
       "      <td>...</td>\n",
       "      <td>...</td>\n",
       "      <td>...</td>\n",
       "      <td>...</td>\n",
       "      <td>...</td>\n",
       "      <td>...</td>\n",
       "      <td>...</td>\n",
       "      <td>...</td>\n",
       "    </tr>\n",
       "    <tr>\n",
       "      <th>256911</th>\n",
       "      <td>Why is hair fall increasing while using Bontre...</td>\n",
       "      <td>I am suffering from excessive hairfall. My doc...</td>\n",
       "      <td>Hello Dear Thanks for writing to us, we are he...</td>\n",
       "      <td>Description: Why is hair fall increasing while...</td>\n",
       "      <td>211</td>\n",
       "      <td>[-0.17113408, 0.10835318, 0.33148944, -0.06146...</td>\n",
       "      <td>6</td>\n",
       "      <td>2.765943</td>\n",
       "    </tr>\n",
       "    <tr>\n",
       "      <th>256912</th>\n",
       "      <td>Why was I asked to discontinue Androanagen whi...</td>\n",
       "      <td>Hi Doctor, I have been having severe hair fall...</td>\n",
       "      <td>hello,        hair4u is combination of minoxid...</td>\n",
       "      <td>Description: Why was I asked to discontinue An...</td>\n",
       "      <td>154</td>\n",
       "      <td>[-0.24637492, 0.031407423, -0.05137701, -0.301...</td>\n",
       "      <td>6</td>\n",
       "      <td>3.314942</td>\n",
       "    </tr>\n",
       "    <tr>\n",
       "      <th>256913</th>\n",
       "      <td>Can Mintop 5% Lotion be used by women for seve...</td>\n",
       "      <td>Hi..i hav sever hair loss problem so consulted...</td>\n",
       "      <td>HI  I have evaluated your query thoroughly you...</td>\n",
       "      <td>Description: Can Mintop 5% Lotion be used by w...</td>\n",
       "      <td>191</td>\n",
       "      <td>[-0.32340947, 0.3667281, 0.3651925, -0.0989788...</td>\n",
       "      <td>6</td>\n",
       "      <td>3.229499</td>\n",
       "    </tr>\n",
       "    <tr>\n",
       "      <th>256914</th>\n",
       "      <td>Is Minoxin 5% lotion advisable instead of Foli...</td>\n",
       "      <td>Hi, i am 25 year old girl, i am having massive...</td>\n",
       "      <td>Hello and Welcome to ‘Ask A Doctor’ service.I ...</td>\n",
       "      <td>Description: Is Minoxin 5% lotion advisable in...</td>\n",
       "      <td>232</td>\n",
       "      <td>[-0.18737659, 0.12219846, 0.2365137, 0.1126744...</td>\n",
       "      <td>6</td>\n",
       "      <td>2.536337</td>\n",
       "    </tr>\n",
       "    <tr>\n",
       "      <th>256915</th>\n",
       "      <td>Are Biotin supplements need to reduce severe h...</td>\n",
       "      <td>iam having hairfall for a decade.. but fews we...</td>\n",
       "      <td>you did'nt mention about thyroid problem ...us...</td>\n",
       "      <td>Description: Are Biotin supplements need to re...</td>\n",
       "      <td>213</td>\n",
       "      <td>[-0.032349, -0.050617322, 0.30625877, 0.201994...</td>\n",
       "      <td>6</td>\n",
       "      <td>3.123004</td>\n",
       "    </tr>\n",
       "  </tbody>\n",
       "</table>\n",
       "<p>1000 rows × 8 columns</p>\n",
       "</div>"
      ],
      "text/plain": [
       "                                              Description  \\\n",
       "255916  What medicine is best for taking out pores and...   \n",
       "255917  What causes non conception despite unprotected...   \n",
       "255918  How long after getting chicken pox is it safe ...   \n",
       "255919  How to remove unwanted hair without any side e...   \n",
       "255920                I am 15. Can i shave my pubic hair?   \n",
       "...                                                   ...   \n",
       "256911  Why is hair fall increasing while using Bontre...   \n",
       "256912  Why was I asked to discontinue Androanagen whi...   \n",
       "256913  Can Mintop 5% Lotion be used by women for seve...   \n",
       "256914  Is Minoxin 5% lotion advisable instead of Foli...   \n",
       "256915  Are Biotin supplements need to reduce severe h...   \n",
       "\n",
       "                                                  Patient  \\\n",
       "255916  Hi, I am (Simran) 28 years (Female) hight 5/3 ...   \n",
       "255917  Hi, i am living with my partner from last six ...   \n",
       "255918  i am 25 yrs old. last year in June i had an IU...   \n",
       "255919  hi doctor! i m 22 years old and i want to remo...   \n",
       "255920  sorry,im just curious because im 15 and when i...   \n",
       "...                                                   ...   \n",
       "256911  I am suffering from excessive hairfall. My doc...   \n",
       "256912  Hi Doctor, I have been having severe hair fall...   \n",
       "256913  Hi..i hav sever hair loss problem so consulted...   \n",
       "256914  Hi, i am 25 year old girl, i am having massive...   \n",
       "256915  iam having hairfall for a decade.. but fews we...   \n",
       "\n",
       "                                                   Doctor  \\\n",
       "255916  Hi simran, your problem can be best sort out u...   \n",
       "255917  do serum tsh and serum prolactin den do hsg on...   \n",
       "255918  Hi, I think you should keep a gap of 3 months ...   \n",
       "255919  Hello, which part of the body do you have thes...   \n",
       "255920  haha aw. Yes your supposed to shave, trim it f...   \n",
       "...                                                   ...   \n",
       "256911  Hello Dear Thanks for writing to us, we are he...   \n",
       "256912  hello,        hair4u is combination of minoxid...   \n",
       "256913  HI  I have evaluated your query thoroughly you...   \n",
       "256914  Hello and Welcome to ‘Ask A Doctor’ service.I ...   \n",
       "256915  you did'nt mention about thyroid problem ...us...   \n",
       "\n",
       "                                                 combined  n_tokens  \\\n",
       "255916  Description: What medicine is best for taking ...       282   \n",
       "255917  Description: What causes non conception despit...       195   \n",
       "255918  Description: How long after getting chicken po...       254   \n",
       "255919  Description: How to remove unwanted hair witho...       110   \n",
       "255920  Description: I am 15. Can i shave my pubic hai...       223   \n",
       "...                                                   ...       ...   \n",
       "256911  Description: Why is hair fall increasing while...       211   \n",
       "256912  Description: Why was I asked to discontinue An...       154   \n",
       "256913  Description: Can Mintop 5% Lotion be used by w...       191   \n",
       "256914  Description: Is Minoxin 5% lotion advisable in...       232   \n",
       "256915  Description: Are Biotin supplements need to re...       213   \n",
       "\n",
       "                                                embedding  Cluster  distance  \n",
       "255916  [-0.2568769, 0.14872037, 0.17243277, 0.2426784...        7  3.389531  \n",
       "255917  [-0.058888793, 0.084498726, -0.05540138, 0.021...        5  3.848544  \n",
       "255918  [-0.12680525, -0.01062898, -0.25460148, 0.0511...        5  3.287058  \n",
       "255919  [0.12641467, -0.1543769, 0.42004266, 0.1722529...        6  3.875464  \n",
       "255920  [-0.06219541, 0.020706447, 0.38799724, -0.0219...        6  3.841674  \n",
       "...                                                   ...      ...       ...  \n",
       "256911  [-0.17113408, 0.10835318, 0.33148944, -0.06146...        6  2.765943  \n",
       "256912  [-0.24637492, 0.031407423, -0.05137701, -0.301...        6  3.314942  \n",
       "256913  [-0.32340947, 0.3667281, 0.3651925, -0.0989788...        6  3.229499  \n",
       "256914  [-0.18737659, 0.12219846, 0.2365137, 0.1126744...        6  2.536337  \n",
       "256915  [-0.032349, -0.050617322, 0.30625877, 0.201994...        6  3.123004  \n",
       "\n",
       "[1000 rows x 8 columns]"
      ]
     },
     "execution_count": 467,
     "metadata": {},
     "output_type": "execute_result"
    }
   ],
   "source": [
    "df"
   ]
  },
  {
   "cell_type": "code",
   "execution_count": 468,
   "metadata": {},
   "outputs": [],
   "source": [
    "#df.groupby(['Cluster'])['Score'].mean()\n"
   ]
  },
  {
   "cell_type": "code",
   "execution_count": 469,
   "metadata": {},
   "outputs": [
    {
     "data": {
      "text/plain": [
       "Cluster\n",
       "0    2.015194\n",
       "1    2.055015\n",
       "4    2.461319\n",
       "6    2.740797\n",
       "7    3.067031\n",
       "5    3.095309\n",
       "3    3.164274\n",
       "2    3.284517\n",
       "Name: distance, dtype: float64"
      ]
     },
     "execution_count": 469,
     "metadata": {},
     "output_type": "execute_result"
    }
   ],
   "source": [
    "df.groupby(\"Cluster\").distance.mean().sort_values()"
   ]
  },
  {
   "cell_type": "code",
   "execution_count": 470,
   "metadata": {},
   "outputs": [],
   "source": [
    "nticks = n_clusters\n",
    "colormap = plt.get_cmap('turbo', nticks)"
   ]
  },
  {
   "cell_type": "code",
   "execution_count": 471,
   "metadata": {},
   "outputs": [
    {
     "data": {
      "text/plain": [
       "matplotlib.colors.ListedColormap"
      ]
     },
     "execution_count": 471,
     "metadata": {},
     "output_type": "execute_result"
    }
   ],
   "source": [
    "type(colormap)"
   ]
  },
  {
   "cell_type": "code",
   "execution_count": 472,
   "metadata": {},
   "outputs": [
    {
     "data": {
      "text/plain": [
       "7"
      ]
     },
     "execution_count": 472,
     "metadata": {},
     "output_type": "execute_result"
    }
   ],
   "source": [
    "len(colormap.colors)"
   ]
  },
  {
   "cell_type": "code",
   "execution_count": 473,
   "metadata": {
    "scrolled": true
   },
   "outputs": [
    {
     "data": {
      "text/plain": [
       "matplotlib.colors.ListedColormap"
      ]
     },
     "execution_count": 473,
     "metadata": {},
     "output_type": "execute_result"
    }
   ],
   "source": [
    "type(colormap)"
   ]
  },
  {
   "cell_type": "code",
   "execution_count": 474,
   "metadata": {},
   "outputs": [
    {
     "name": "stderr",
     "output_type": "stream",
     "text": [
      "C:\\Users\\rusla\\AppData\\Local\\Temp\\ipykernel_26408\\3162068520.py:16: RuntimeWarning: Mean of empty slice.\n",
      "  avg_x = xs.mean()\n",
      "C:\\gpt\\my_venv\\lib\\site-packages\\numpy\\core\\_methods.py:190: RuntimeWarning: invalid value encountered in divide\n",
      "  ret = ret.dtype.type(ret / rcount)\n",
      "C:\\Users\\rusla\\AppData\\Local\\Temp\\ipykernel_26408\\3162068520.py:17: RuntimeWarning: Mean of empty slice.\n",
      "  avg_y = ys.mean()\n"
     ]
    },
    {
     "data": {
      "text/plain": [
       "Text(0.5, 1.0, 'Clusters identified visualized in language 2d using t-SNE')"
      ]
     },
     "execution_count": 474,
     "metadata": {},
     "output_type": "execute_result"
    },
    {
     "data": {
      "image/png": "[encoded data removed]",
      "text/plain": [
       "<Figure size 640x480 with 1 Axes>"
      ]
     },
     "metadata": {},
     "output_type": "display_data"
    }
   ],
   "source": [
    "from sklearn.manifold import TSNE\n",
    "import matplotlib\n",
    "import matplotlib.pyplot as plt\n",
    "\n",
    "tsne = TSNE(n_components=2, perplexity=15, random_state=42, init=\"random\", learning_rate=200)\n",
    "vis_dims2 = tsne.fit_transform(matrix)\n",
    "\n",
    "x = [x for x, y in vis_dims2]\n",
    "y = [y for x, y in vis_dims2]\n",
    "\n",
    "for category, color in enumerate([\"purple\", \"green\", \"red\", \"blue\",\"yellow\",\"orange\",\"violet\",\"cyan\",\"magenta\"]):\n",
    "    xs = np.array(x)[df.Cluster == category]\n",
    "    ys = np.array(y)[df.Cluster == category]\n",
    "    plt.scatter(xs, ys, color=color, alpha=0.3)\n",
    "\n",
    "    avg_x = xs.mean()\n",
    "    avg_y = ys.mean()\n",
    "\n",
    "    plt.scatter(avg_x, avg_y, marker=\"x\", color=color, s=100)\n",
    "plt.title(\"Clusters identified visualized in language 2d using t-SNE\")\n"
   ]
  },
  {
   "cell_type": "code",
   "execution_count": null,
   "metadata": {},
   "outputs": [],
   "source": []
  },
  {
   "attachments": {},
   "cell_type": "markdown",
   "metadata": {},
   "source": [
    "Visualization of clusters in a 2d projection. In this run, the green cluster (#1) seems quite different from the others. Let's see a few samples from each cluster."
   ]
  }
 ],
 "metadata": {
  "kernelspec": {
   "display_name": "Python3 (GPT)",
   "language": "python",
   "name": "gpt"
  },
  "language_info": {
   "codemirror_mode": {
    "name": "ipython",
    "version": 3
   },
   "file_extension": ".py",
   "mimetype": "text/x-python",
   "name": "python",
   "nbconvert_exporter": "python",
   "pygments_lexer": "ipython3",
   "version": "3.10.11"
  },
  "vscode": {
   "interpreter": {
    "hash": "365536dcbde60510dc9073d6b991cd35db2d9bac356a11f5b64279a5e6708b97"
   }
  }
 },
 "nbformat": 4,
 "nbformat_minor": 4
}
